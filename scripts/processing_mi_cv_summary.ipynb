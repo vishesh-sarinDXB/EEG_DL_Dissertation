{
 "cells": [
  {
   "cell_type": "code",
   "execution_count": 1,
   "id": "452fdd4c",
   "metadata": {},
   "outputs": [],
   "source": [
    "import os\n",
    "import pandas as pd"
   ]
  },
  {
   "cell_type": "code",
   "execution_count": 2,
   "id": "417c3271",
   "metadata": {},
   "outputs": [],
   "source": [
    "parent = '../summary/mi_cv/'"
   ]
  },
  {
   "cell_type": "code",
   "execution_count": 3,
   "id": "0b6105b1",
   "metadata": {},
   "outputs": [],
   "source": [
    "experiment_list = os.listdir(parent)"
   ]
  },
  {
   "cell_type": "code",
   "execution_count": 4,
   "id": "020f1045",
   "metadata": {},
   "outputs": [],
   "source": [
    "for experiment in experiment_list:\n",
    "    \n",
    "    exp_dir = os.path.join(parent, experiment)\n",
    "    sub_list = os.listdir(exp_dir)\n",
    "    sub_list.sort()\n",
    "    \n",
    "    mean = pd.DataFrame(columns = ['train_accuracy', 'test_accuracy', 'Precision_class1',\n",
    "                                   'Precision_class2', 'Recall_class1', 'Recall_class2', 'F1_class1',\n",
    "                                   'F1_class2', 'Precision_class1_train', 'Precision_class2_train',\n",
    "                                   'Recall_class1_train', 'Recall_class2_train', 'F1_class1_train',\n",
    "                                   'F1_class2_train'])\n",
    "    \n",
    "    for subject in sub_list:\n",
    "        \n",
    "        sub_file = os.path.join(exp_dir, subject)\n",
    "        sub = pd.read_csv(sub_file)\n",
    "        sub = sub.append(sub.describe()).drop('count')\n",
    "        sub.to_csv(sub_file)\n",
    "        \n",
    "        mean = mean.append(pd.DataFrame(sub.loc['mean']).transpose())#.reset_index().drop(columns = 'index')\n",
    "        \n",
    "    exp_dir = os.path.join(exp_dir, experiment)\n",
    "    mean.reset_index().drop(columns = 'index').to_csv(exp_dir + '.csv', index = False)"
   ]
  }
 ],
 "metadata": {
  "kernelspec": {
   "display_name": "Python 3",
   "language": "python",
   "name": "python3"
  },
  "language_info": {
   "codemirror_mode": {
    "name": "ipython",
    "version": 3
   },
   "file_extension": ".py",
   "mimetype": "text/x-python",
   "name": "python",
   "nbconvert_exporter": "python",
   "pygments_lexer": "ipython3",
   "version": "3.9.5"
  }
 },
 "nbformat": 4,
 "nbformat_minor": 5
}
