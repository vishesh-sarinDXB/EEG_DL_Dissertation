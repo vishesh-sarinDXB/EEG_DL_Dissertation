{
 "cells": [
  {
   "cell_type": "code",
   "execution_count": 1,
   "id": "10971b4c",
   "metadata": {},
   "outputs": [],
   "source": [
    "import scipy.io as sio\n",
    "import tensorflow as tf\n",
    "import numpy as np\n",
    "\n",
    "from tensorflow.keras import Model\n",
    "from tensorflow.keras.models import Sequential\n",
    "from tensorflow.keras.layers import (\n",
    "    Dense,\n",
    "    ConvLSTM2D,\n",
    "    GlobalMaxPooling2D, \n",
    "    )"
   ]
  },
  {
   "cell_type": "code",
   "execution_count": 2,
   "id": "4d66540c",
   "metadata": {},
   "outputs": [],
   "source": [
    "mat = sio.loadmat('../../data/processed/sevenThirty/s01.mat')\n",
    "mi = mat['mi']\n",
    "real = mat['real']\n",
    "class_mi = mat['class_mi']\n",
    "class_real = mat['class_real']"
   ]
  },
  {
   "cell_type": "code",
   "execution_count": 3,
   "id": "63565b7b",
   "metadata": {},
   "outputs": [],
   "source": [
    "mi_tensor = np.empty([mi.shape[2], 64, 1024])\n",
    "real_tensor = np.empty([real.shape[2], 64, 1024])"
   ]
  },
  {
   "cell_type": "code",
   "execution_count": 8,
   "id": "96b6240f",
   "metadata": {},
   "outputs": [],
   "source": [
    "mi_intermediate = np.empty([mi.shape[2], 16, 64, 64])\n"
   ]
  },
  {
   "cell_type": "code",
   "execution_count": 5,
   "id": "a3b39765",
   "metadata": {},
   "outputs": [
    {
     "data": {
      "text/plain": [
       "(200, 4, 64, 256)"
      ]
     },
     "execution_count": 5,
     "metadata": {},
     "output_type": "execute_result"
    }
   ],
   "source": [
    "mi_intermediate.shape"
   ]
  },
  {
   "cell_type": "code",
   "execution_count": 4,
   "id": "abf1d132",
   "metadata": {},
   "outputs": [],
   "source": [
    "for i in range(0, mi.shape[2]):\n",
    "    mi_tensor[i, :, :] = mi[:, :, i]\n",
    "\n",
    "mi_intermediate = np.empty([mi.shape[2], 4, 64, 256])\n",
    "\n",
    "for i in range(1, (mi.shape[2] - 1)):\n",
    "    \n",
    "    startIDX = (8 * i) - 1\n",
    "    startIDX = startIDX - 4\n",
    "    endIDX = startIDX + 16\n",
    "    \n",
    "mi_tensor = tf.reshape(mi_tensor, shape = (mi.shape[2], 64, 1024, 1))"
   ]
  },
  {
   "cell_type": "code",
   "execution_count": 5,
   "id": "f0663d8a",
   "metadata": {},
   "outputs": [],
   "source": [
    "for i in range(0, real.shape[2]):\n",
    "    real_tensor[i, :, :] = real[:, :, i]\n",
    "    \n",
    "real_tensor = tf.reshape(real_tensor, shape = (real.shape[2], 64, 1024, 1))"
   ]
  },
  {
   "cell_type": "code",
   "execution_count": 6,
   "id": "e58fec6e",
   "metadata": {},
   "outputs": [],
   "source": [
    "class_mi = tf.reshape(class_mi, mi.shape[2])\n",
    "class_real = tf.reshape(class_real, real.shape[2])"
   ]
  },
  {
   "cell_type": "code",
   "execution_count": null,
   "id": "f963cd2a",
   "metadata": {},
   "outputs": [],
   "source": []
  },
  {
   "cell_type": "code",
   "execution_count": null,
   "id": "59368457",
   "metadata": {},
   "outputs": [],
   "source": []
  },
  {
   "cell_type": "code",
   "execution_count": null,
   "id": "94dfc97d",
   "metadata": {},
   "outputs": [],
   "source": []
  },
  {
   "cell_type": "code",
   "execution_count": null,
   "id": "350f6fa6",
   "metadata": {},
   "outputs": [],
   "source": []
  },
  {
   "cell_type": "code",
   "execution_count": 13,
   "id": "c9521035",
   "metadata": {},
   "outputs": [],
   "source": [
    "opt = tf.keras.optimizers.RMSprop(\n",
    "    lr=0.001)\n",
    "\n",
    "loss = tf.keras.losses.BinaryCrossentropy()"
   ]
  },
  {
   "cell_type": "code",
   "execution_count": 12,
   "id": "cfcf5585",
   "metadata": {},
   "outputs": [],
   "source": [
    "model = Sequential()\n",
    "model.add(ConvLSTM2D(\n",
    "    filters=4,\n",
    "    kernel_size=(4, 4),\n",
    "    padding='same',\n",
    "    data_format='channels_last',\n",
    "    return_sequences=False,\n",
    "#     input_shape=(64, 1024, 1)\n",
    "    ))\n",
    "model.add(GlobalMaxPooling2D())\n",
    "model.add(Dense(512, activation='relu'))\n",
    "model.add(Dense(256, activation='relu'))\n",
    "model.add(Dense(1, activation='sigmoid'))"
   ]
  },
  {
   "cell_type": "code",
   "execution_count": 14,
   "id": "ad38f738",
   "metadata": {},
   "outputs": [],
   "source": [
    "model.compile(\n",
    "    optimizer=opt,\n",
    "    loss=loss,\n",
    "    metrics=['accuracy'])"
   ]
  },
  {
   "cell_type": "code",
   "execution_count": 16,
   "id": "a3cfd825",
   "metadata": {},
   "outputs": [
    {
     "name": "stdout",
     "output_type": "stream",
     "text": [
      "Epoch 1/10\n"
     ]
    },
    {
     "ename": "ValueError",
     "evalue": "in user code:\n\n    /home/swagmaster/anaconda3/envs/tf/lib/python3.9/site-packages/tensorflow/python/keras/engine/training.py:805 train_function  *\n        return step_function(self, iterator)\n    /home/swagmaster/anaconda3/envs/tf/lib/python3.9/site-packages/tensorflow/python/keras/engine/training.py:795 step_function  **\n        outputs = model.distribute_strategy.run(run_step, args=(data,))\n    /home/swagmaster/anaconda3/envs/tf/lib/python3.9/site-packages/tensorflow/python/distribute/distribute_lib.py:1259 run\n        return self._extended.call_for_each_replica(fn, args=args, kwargs=kwargs)\n    /home/swagmaster/anaconda3/envs/tf/lib/python3.9/site-packages/tensorflow/python/distribute/distribute_lib.py:2730 call_for_each_replica\n        return self._call_for_each_replica(fn, args, kwargs)\n    /home/swagmaster/anaconda3/envs/tf/lib/python3.9/site-packages/tensorflow/python/distribute/distribute_lib.py:3417 _call_for_each_replica\n        return fn(*args, **kwargs)\n    /home/swagmaster/anaconda3/envs/tf/lib/python3.9/site-packages/tensorflow/python/keras/engine/training.py:788 run_step  **\n        outputs = model.train_step(data)\n    /home/swagmaster/anaconda3/envs/tf/lib/python3.9/site-packages/tensorflow/python/keras/engine/training.py:754 train_step\n        y_pred = self(x, training=True)\n    /home/swagmaster/anaconda3/envs/tf/lib/python3.9/site-packages/tensorflow/python/keras/engine/base_layer.py:998 __call__\n        input_spec.assert_input_compatibility(self.input_spec, inputs, self.name)\n    /home/swagmaster/anaconda3/envs/tf/lib/python3.9/site-packages/tensorflow/python/keras/engine/input_spec.py:219 assert_input_compatibility\n        raise ValueError('Input ' + str(input_index) + ' of layer ' +\n\n    ValueError: Input 0 of layer sequential_5 is incompatible with the layer: expected ndim=5, found ndim=4. Full shape received: (1, 64, 1024, 1)\n",
     "output_type": "error",
     "traceback": [
      "\u001b[0;31m---------------------------------------------------------------------------\u001b[0m",
      "\u001b[0;31mValueError\u001b[0m                                Traceback (most recent call last)",
      "\u001b[0;32m<ipython-input-16-d94e3c2c4f44>\u001b[0m in \u001b[0;36m<module>\u001b[0;34m\u001b[0m\n\u001b[0;32m----> 1\u001b[0;31m model.fit(\n\u001b[0m\u001b[1;32m      2\u001b[0m     \u001b[0mx\u001b[0m\u001b[0;34m=\u001b[0m\u001b[0mmi_tensor\u001b[0m\u001b[0;34m,\u001b[0m\u001b[0;34m\u001b[0m\u001b[0;34m\u001b[0m\u001b[0m\n\u001b[1;32m      3\u001b[0m     \u001b[0my\u001b[0m\u001b[0;34m=\u001b[0m\u001b[0mclass_mi\u001b[0m\u001b[0;34m,\u001b[0m\u001b[0;34m\u001b[0m\u001b[0;34m\u001b[0m\u001b[0m\n\u001b[1;32m      4\u001b[0m     \u001b[0mbatch_size\u001b[0m\u001b[0;34m=\u001b[0m\u001b[0;36m1\u001b[0m\u001b[0;34m,\u001b[0m\u001b[0;34m\u001b[0m\u001b[0;34m\u001b[0m\u001b[0m\n\u001b[1;32m      5\u001b[0m     \u001b[0mvalidation_data\u001b[0m\u001b[0;34m=\u001b[0m\u001b[0;34m(\u001b[0m\u001b[0mreal_tensor\u001b[0m\u001b[0;34m,\u001b[0m \u001b[0mclass_real\u001b[0m\u001b[0;34m)\u001b[0m\u001b[0;34m,\u001b[0m\u001b[0;34m\u001b[0m\u001b[0;34m\u001b[0m\u001b[0m\n",
      "\u001b[0;32m~/anaconda3/envs/tf/lib/python3.9/site-packages/tensorflow/python/keras/engine/training.py\u001b[0m in \u001b[0;36mfit\u001b[0;34m(self, x, y, batch_size, epochs, verbose, callbacks, validation_split, validation_data, shuffle, class_weight, sample_weight, initial_epoch, steps_per_epoch, validation_steps, validation_batch_size, validation_freq, max_queue_size, workers, use_multiprocessing)\u001b[0m\n\u001b[1;32m   1098\u001b[0m                 _r=1):\n\u001b[1;32m   1099\u001b[0m               \u001b[0mcallbacks\u001b[0m\u001b[0;34m.\u001b[0m\u001b[0mon_train_batch_begin\u001b[0m\u001b[0;34m(\u001b[0m\u001b[0mstep\u001b[0m\u001b[0;34m)\u001b[0m\u001b[0;34m\u001b[0m\u001b[0;34m\u001b[0m\u001b[0m\n\u001b[0;32m-> 1100\u001b[0;31m               \u001b[0mtmp_logs\u001b[0m \u001b[0;34m=\u001b[0m \u001b[0mself\u001b[0m\u001b[0;34m.\u001b[0m\u001b[0mtrain_function\u001b[0m\u001b[0;34m(\u001b[0m\u001b[0miterator\u001b[0m\u001b[0;34m)\u001b[0m\u001b[0;34m\u001b[0m\u001b[0;34m\u001b[0m\u001b[0m\n\u001b[0m\u001b[1;32m   1101\u001b[0m               \u001b[0;32mif\u001b[0m \u001b[0mdata_handler\u001b[0m\u001b[0;34m.\u001b[0m\u001b[0mshould_sync\u001b[0m\u001b[0;34m:\u001b[0m\u001b[0;34m\u001b[0m\u001b[0;34m\u001b[0m\u001b[0m\n\u001b[1;32m   1102\u001b[0m                 \u001b[0mcontext\u001b[0m\u001b[0;34m.\u001b[0m\u001b[0masync_wait\u001b[0m\u001b[0;34m(\u001b[0m\u001b[0;34m)\u001b[0m\u001b[0;34m\u001b[0m\u001b[0;34m\u001b[0m\u001b[0m\n",
      "\u001b[0;32m~/anaconda3/envs/tf/lib/python3.9/site-packages/tensorflow/python/eager/def_function.py\u001b[0m in \u001b[0;36m__call__\u001b[0;34m(self, *args, **kwds)\u001b[0m\n\u001b[1;32m    826\u001b[0m     \u001b[0mtracing_count\u001b[0m \u001b[0;34m=\u001b[0m \u001b[0mself\u001b[0m\u001b[0;34m.\u001b[0m\u001b[0mexperimental_get_tracing_count\u001b[0m\u001b[0;34m(\u001b[0m\u001b[0;34m)\u001b[0m\u001b[0;34m\u001b[0m\u001b[0;34m\u001b[0m\u001b[0m\n\u001b[1;32m    827\u001b[0m     \u001b[0;32mwith\u001b[0m \u001b[0mtrace\u001b[0m\u001b[0;34m.\u001b[0m\u001b[0mTrace\u001b[0m\u001b[0;34m(\u001b[0m\u001b[0mself\u001b[0m\u001b[0;34m.\u001b[0m\u001b[0m_name\u001b[0m\u001b[0;34m)\u001b[0m \u001b[0;32mas\u001b[0m \u001b[0mtm\u001b[0m\u001b[0;34m:\u001b[0m\u001b[0;34m\u001b[0m\u001b[0;34m\u001b[0m\u001b[0m\n\u001b[0;32m--> 828\u001b[0;31m       \u001b[0mresult\u001b[0m \u001b[0;34m=\u001b[0m \u001b[0mself\u001b[0m\u001b[0;34m.\u001b[0m\u001b[0m_call\u001b[0m\u001b[0;34m(\u001b[0m\u001b[0;34m*\u001b[0m\u001b[0margs\u001b[0m\u001b[0;34m,\u001b[0m \u001b[0;34m**\u001b[0m\u001b[0mkwds\u001b[0m\u001b[0;34m)\u001b[0m\u001b[0;34m\u001b[0m\u001b[0;34m\u001b[0m\u001b[0m\n\u001b[0m\u001b[1;32m    829\u001b[0m       \u001b[0mcompiler\u001b[0m \u001b[0;34m=\u001b[0m \u001b[0;34m\"xla\"\u001b[0m \u001b[0;32mif\u001b[0m \u001b[0mself\u001b[0m\u001b[0;34m.\u001b[0m\u001b[0m_experimental_compile\u001b[0m \u001b[0;32melse\u001b[0m \u001b[0;34m\"nonXla\"\u001b[0m\u001b[0;34m\u001b[0m\u001b[0;34m\u001b[0m\u001b[0m\n\u001b[1;32m    830\u001b[0m       \u001b[0mnew_tracing_count\u001b[0m \u001b[0;34m=\u001b[0m \u001b[0mself\u001b[0m\u001b[0;34m.\u001b[0m\u001b[0mexperimental_get_tracing_count\u001b[0m\u001b[0;34m(\u001b[0m\u001b[0;34m)\u001b[0m\u001b[0;34m\u001b[0m\u001b[0;34m\u001b[0m\u001b[0m\n",
      "\u001b[0;32m~/anaconda3/envs/tf/lib/python3.9/site-packages/tensorflow/python/eager/def_function.py\u001b[0m in \u001b[0;36m_call\u001b[0;34m(self, *args, **kwds)\u001b[0m\n\u001b[1;32m    869\u001b[0m       \u001b[0;31m# This is the first call of __call__, so we have to initialize.\u001b[0m\u001b[0;34m\u001b[0m\u001b[0;34m\u001b[0m\u001b[0;34m\u001b[0m\u001b[0m\n\u001b[1;32m    870\u001b[0m       \u001b[0minitializers\u001b[0m \u001b[0;34m=\u001b[0m \u001b[0;34m[\u001b[0m\u001b[0;34m]\u001b[0m\u001b[0;34m\u001b[0m\u001b[0;34m\u001b[0m\u001b[0m\n\u001b[0;32m--> 871\u001b[0;31m       \u001b[0mself\u001b[0m\u001b[0;34m.\u001b[0m\u001b[0m_initialize\u001b[0m\u001b[0;34m(\u001b[0m\u001b[0margs\u001b[0m\u001b[0;34m,\u001b[0m \u001b[0mkwds\u001b[0m\u001b[0;34m,\u001b[0m \u001b[0madd_initializers_to\u001b[0m\u001b[0;34m=\u001b[0m\u001b[0minitializers\u001b[0m\u001b[0;34m)\u001b[0m\u001b[0;34m\u001b[0m\u001b[0;34m\u001b[0m\u001b[0m\n\u001b[0m\u001b[1;32m    872\u001b[0m     \u001b[0;32mfinally\u001b[0m\u001b[0;34m:\u001b[0m\u001b[0;34m\u001b[0m\u001b[0;34m\u001b[0m\u001b[0m\n\u001b[1;32m    873\u001b[0m       \u001b[0;31m# At this point we know that the initialization is complete (or less\u001b[0m\u001b[0;34m\u001b[0m\u001b[0;34m\u001b[0m\u001b[0;34m\u001b[0m\u001b[0m\n",
      "\u001b[0;32m~/anaconda3/envs/tf/lib/python3.9/site-packages/tensorflow/python/eager/def_function.py\u001b[0m in \u001b[0;36m_initialize\u001b[0;34m(self, args, kwds, add_initializers_to)\u001b[0m\n\u001b[1;32m    723\u001b[0m     \u001b[0mself\u001b[0m\u001b[0;34m.\u001b[0m\u001b[0m_graph_deleter\u001b[0m \u001b[0;34m=\u001b[0m \u001b[0mFunctionDeleter\u001b[0m\u001b[0;34m(\u001b[0m\u001b[0mself\u001b[0m\u001b[0;34m.\u001b[0m\u001b[0m_lifted_initializer_graph\u001b[0m\u001b[0;34m)\u001b[0m\u001b[0;34m\u001b[0m\u001b[0;34m\u001b[0m\u001b[0m\n\u001b[1;32m    724\u001b[0m     self._concrete_stateful_fn = (\n\u001b[0;32m--> 725\u001b[0;31m         self._stateful_fn._get_concrete_function_internal_garbage_collected(  # pylint: disable=protected-access\n\u001b[0m\u001b[1;32m    726\u001b[0m             *args, **kwds))\n\u001b[1;32m    727\u001b[0m \u001b[0;34m\u001b[0m\u001b[0m\n",
      "\u001b[0;32m~/anaconda3/envs/tf/lib/python3.9/site-packages/tensorflow/python/eager/function.py\u001b[0m in \u001b[0;36m_get_concrete_function_internal_garbage_collected\u001b[0;34m(self, *args, **kwargs)\u001b[0m\n\u001b[1;32m   2967\u001b[0m       \u001b[0margs\u001b[0m\u001b[0;34m,\u001b[0m \u001b[0mkwargs\u001b[0m \u001b[0;34m=\u001b[0m \u001b[0;32mNone\u001b[0m\u001b[0;34m,\u001b[0m \u001b[0;32mNone\u001b[0m\u001b[0;34m\u001b[0m\u001b[0;34m\u001b[0m\u001b[0m\n\u001b[1;32m   2968\u001b[0m     \u001b[0;32mwith\u001b[0m \u001b[0mself\u001b[0m\u001b[0;34m.\u001b[0m\u001b[0m_lock\u001b[0m\u001b[0;34m:\u001b[0m\u001b[0;34m\u001b[0m\u001b[0;34m\u001b[0m\u001b[0m\n\u001b[0;32m-> 2969\u001b[0;31m       \u001b[0mgraph_function\u001b[0m\u001b[0;34m,\u001b[0m \u001b[0m_\u001b[0m \u001b[0;34m=\u001b[0m \u001b[0mself\u001b[0m\u001b[0;34m.\u001b[0m\u001b[0m_maybe_define_function\u001b[0m\u001b[0;34m(\u001b[0m\u001b[0margs\u001b[0m\u001b[0;34m,\u001b[0m \u001b[0mkwargs\u001b[0m\u001b[0;34m)\u001b[0m\u001b[0;34m\u001b[0m\u001b[0;34m\u001b[0m\u001b[0m\n\u001b[0m\u001b[1;32m   2970\u001b[0m     \u001b[0;32mreturn\u001b[0m \u001b[0mgraph_function\u001b[0m\u001b[0;34m\u001b[0m\u001b[0;34m\u001b[0m\u001b[0m\n\u001b[1;32m   2971\u001b[0m \u001b[0;34m\u001b[0m\u001b[0m\n",
      "\u001b[0;32m~/anaconda3/envs/tf/lib/python3.9/site-packages/tensorflow/python/eager/function.py\u001b[0m in \u001b[0;36m_maybe_define_function\u001b[0;34m(self, args, kwargs)\u001b[0m\n\u001b[1;32m   3359\u001b[0m \u001b[0;34m\u001b[0m\u001b[0m\n\u001b[1;32m   3360\u001b[0m           \u001b[0mself\u001b[0m\u001b[0;34m.\u001b[0m\u001b[0m_function_cache\u001b[0m\u001b[0;34m.\u001b[0m\u001b[0mmissed\u001b[0m\u001b[0;34m.\u001b[0m\u001b[0madd\u001b[0m\u001b[0;34m(\u001b[0m\u001b[0mcall_context_key\u001b[0m\u001b[0;34m)\u001b[0m\u001b[0;34m\u001b[0m\u001b[0;34m\u001b[0m\u001b[0m\n\u001b[0;32m-> 3361\u001b[0;31m           \u001b[0mgraph_function\u001b[0m \u001b[0;34m=\u001b[0m \u001b[0mself\u001b[0m\u001b[0;34m.\u001b[0m\u001b[0m_create_graph_function\u001b[0m\u001b[0;34m(\u001b[0m\u001b[0margs\u001b[0m\u001b[0;34m,\u001b[0m \u001b[0mkwargs\u001b[0m\u001b[0;34m)\u001b[0m\u001b[0;34m\u001b[0m\u001b[0;34m\u001b[0m\u001b[0m\n\u001b[0m\u001b[1;32m   3362\u001b[0m           \u001b[0mself\u001b[0m\u001b[0;34m.\u001b[0m\u001b[0m_function_cache\u001b[0m\u001b[0;34m.\u001b[0m\u001b[0mprimary\u001b[0m\u001b[0;34m[\u001b[0m\u001b[0mcache_key\u001b[0m\u001b[0;34m]\u001b[0m \u001b[0;34m=\u001b[0m \u001b[0mgraph_function\u001b[0m\u001b[0;34m\u001b[0m\u001b[0;34m\u001b[0m\u001b[0m\n\u001b[1;32m   3363\u001b[0m \u001b[0;34m\u001b[0m\u001b[0m\n",
      "\u001b[0;32m~/anaconda3/envs/tf/lib/python3.9/site-packages/tensorflow/python/eager/function.py\u001b[0m in \u001b[0;36m_create_graph_function\u001b[0;34m(self, args, kwargs, override_flat_arg_shapes)\u001b[0m\n\u001b[1;32m   3194\u001b[0m     \u001b[0marg_names\u001b[0m \u001b[0;34m=\u001b[0m \u001b[0mbase_arg_names\u001b[0m \u001b[0;34m+\u001b[0m \u001b[0mmissing_arg_names\u001b[0m\u001b[0;34m\u001b[0m\u001b[0;34m\u001b[0m\u001b[0m\n\u001b[1;32m   3195\u001b[0m     graph_function = ConcreteFunction(\n\u001b[0;32m-> 3196\u001b[0;31m         func_graph_module.func_graph_from_py_func(\n\u001b[0m\u001b[1;32m   3197\u001b[0m             \u001b[0mself\u001b[0m\u001b[0;34m.\u001b[0m\u001b[0m_name\u001b[0m\u001b[0;34m,\u001b[0m\u001b[0;34m\u001b[0m\u001b[0;34m\u001b[0m\u001b[0m\n\u001b[1;32m   3198\u001b[0m             \u001b[0mself\u001b[0m\u001b[0;34m.\u001b[0m\u001b[0m_python_function\u001b[0m\u001b[0;34m,\u001b[0m\u001b[0;34m\u001b[0m\u001b[0;34m\u001b[0m\u001b[0m\n",
      "\u001b[0;32m~/anaconda3/envs/tf/lib/python3.9/site-packages/tensorflow/python/framework/func_graph.py\u001b[0m in \u001b[0;36mfunc_graph_from_py_func\u001b[0;34m(name, python_func, args, kwargs, signature, func_graph, autograph, autograph_options, add_control_dependencies, arg_names, op_return_value, collections, capture_by_value, override_flat_arg_shapes)\u001b[0m\n\u001b[1;32m    988\u001b[0m         \u001b[0m_\u001b[0m\u001b[0;34m,\u001b[0m \u001b[0moriginal_func\u001b[0m \u001b[0;34m=\u001b[0m \u001b[0mtf_decorator\u001b[0m\u001b[0;34m.\u001b[0m\u001b[0munwrap\u001b[0m\u001b[0;34m(\u001b[0m\u001b[0mpython_func\u001b[0m\u001b[0;34m)\u001b[0m\u001b[0;34m\u001b[0m\u001b[0;34m\u001b[0m\u001b[0m\n\u001b[1;32m    989\u001b[0m \u001b[0;34m\u001b[0m\u001b[0m\n\u001b[0;32m--> 990\u001b[0;31m       \u001b[0mfunc_outputs\u001b[0m \u001b[0;34m=\u001b[0m \u001b[0mpython_func\u001b[0m\u001b[0;34m(\u001b[0m\u001b[0;34m*\u001b[0m\u001b[0mfunc_args\u001b[0m\u001b[0;34m,\u001b[0m \u001b[0;34m**\u001b[0m\u001b[0mfunc_kwargs\u001b[0m\u001b[0;34m)\u001b[0m\u001b[0;34m\u001b[0m\u001b[0;34m\u001b[0m\u001b[0m\n\u001b[0m\u001b[1;32m    991\u001b[0m \u001b[0;34m\u001b[0m\u001b[0m\n\u001b[1;32m    992\u001b[0m       \u001b[0;31m# invariant: `func_outputs` contains only Tensors, CompositeTensors,\u001b[0m\u001b[0;34m\u001b[0m\u001b[0;34m\u001b[0m\u001b[0;34m\u001b[0m\u001b[0m\n",
      "\u001b[0;32m~/anaconda3/envs/tf/lib/python3.9/site-packages/tensorflow/python/eager/def_function.py\u001b[0m in \u001b[0;36mwrapped_fn\u001b[0;34m(*args, **kwds)\u001b[0m\n\u001b[1;32m    632\u001b[0m             \u001b[0mxla_context\u001b[0m\u001b[0;34m.\u001b[0m\u001b[0mExit\u001b[0m\u001b[0;34m(\u001b[0m\u001b[0;34m)\u001b[0m\u001b[0;34m\u001b[0m\u001b[0;34m\u001b[0m\u001b[0m\n\u001b[1;32m    633\u001b[0m         \u001b[0;32melse\u001b[0m\u001b[0;34m:\u001b[0m\u001b[0;34m\u001b[0m\u001b[0;34m\u001b[0m\u001b[0m\n\u001b[0;32m--> 634\u001b[0;31m           \u001b[0mout\u001b[0m \u001b[0;34m=\u001b[0m \u001b[0mweak_wrapped_fn\u001b[0m\u001b[0;34m(\u001b[0m\u001b[0;34m)\u001b[0m\u001b[0;34m.\u001b[0m\u001b[0m__wrapped__\u001b[0m\u001b[0;34m(\u001b[0m\u001b[0;34m*\u001b[0m\u001b[0margs\u001b[0m\u001b[0;34m,\u001b[0m \u001b[0;34m**\u001b[0m\u001b[0mkwds\u001b[0m\u001b[0;34m)\u001b[0m\u001b[0;34m\u001b[0m\u001b[0;34m\u001b[0m\u001b[0m\n\u001b[0m\u001b[1;32m    635\u001b[0m         \u001b[0;32mreturn\u001b[0m \u001b[0mout\u001b[0m\u001b[0;34m\u001b[0m\u001b[0;34m\u001b[0m\u001b[0m\n\u001b[1;32m    636\u001b[0m \u001b[0;34m\u001b[0m\u001b[0m\n",
      "\u001b[0;32m~/anaconda3/envs/tf/lib/python3.9/site-packages/tensorflow/python/framework/func_graph.py\u001b[0m in \u001b[0;36mwrapper\u001b[0;34m(*args, **kwargs)\u001b[0m\n\u001b[1;32m    975\u001b[0m           \u001b[0;32mexcept\u001b[0m \u001b[0mException\u001b[0m \u001b[0;32mas\u001b[0m \u001b[0me\u001b[0m\u001b[0;34m:\u001b[0m  \u001b[0;31m# pylint:disable=broad-except\u001b[0m\u001b[0;34m\u001b[0m\u001b[0;34m\u001b[0m\u001b[0m\n\u001b[1;32m    976\u001b[0m             \u001b[0;32mif\u001b[0m \u001b[0mhasattr\u001b[0m\u001b[0;34m(\u001b[0m\u001b[0me\u001b[0m\u001b[0;34m,\u001b[0m \u001b[0;34m\"ag_error_metadata\"\u001b[0m\u001b[0;34m)\u001b[0m\u001b[0;34m:\u001b[0m\u001b[0;34m\u001b[0m\u001b[0;34m\u001b[0m\u001b[0m\n\u001b[0;32m--> 977\u001b[0;31m               \u001b[0;32mraise\u001b[0m \u001b[0me\u001b[0m\u001b[0;34m.\u001b[0m\u001b[0mag_error_metadata\u001b[0m\u001b[0;34m.\u001b[0m\u001b[0mto_exception\u001b[0m\u001b[0;34m(\u001b[0m\u001b[0me\u001b[0m\u001b[0;34m)\u001b[0m\u001b[0;34m\u001b[0m\u001b[0;34m\u001b[0m\u001b[0m\n\u001b[0m\u001b[1;32m    978\u001b[0m             \u001b[0;32melse\u001b[0m\u001b[0;34m:\u001b[0m\u001b[0;34m\u001b[0m\u001b[0;34m\u001b[0m\u001b[0m\n\u001b[1;32m    979\u001b[0m               \u001b[0;32mraise\u001b[0m\u001b[0;34m\u001b[0m\u001b[0;34m\u001b[0m\u001b[0m\n",
      "\u001b[0;31mValueError\u001b[0m: in user code:\n\n    /home/swagmaster/anaconda3/envs/tf/lib/python3.9/site-packages/tensorflow/python/keras/engine/training.py:805 train_function  *\n        return step_function(self, iterator)\n    /home/swagmaster/anaconda3/envs/tf/lib/python3.9/site-packages/tensorflow/python/keras/engine/training.py:795 step_function  **\n        outputs = model.distribute_strategy.run(run_step, args=(data,))\n    /home/swagmaster/anaconda3/envs/tf/lib/python3.9/site-packages/tensorflow/python/distribute/distribute_lib.py:1259 run\n        return self._extended.call_for_each_replica(fn, args=args, kwargs=kwargs)\n    /home/swagmaster/anaconda3/envs/tf/lib/python3.9/site-packages/tensorflow/python/distribute/distribute_lib.py:2730 call_for_each_replica\n        return self._call_for_each_replica(fn, args, kwargs)\n    /home/swagmaster/anaconda3/envs/tf/lib/python3.9/site-packages/tensorflow/python/distribute/distribute_lib.py:3417 _call_for_each_replica\n        return fn(*args, **kwargs)\n    /home/swagmaster/anaconda3/envs/tf/lib/python3.9/site-packages/tensorflow/python/keras/engine/training.py:788 run_step  **\n        outputs = model.train_step(data)\n    /home/swagmaster/anaconda3/envs/tf/lib/python3.9/site-packages/tensorflow/python/keras/engine/training.py:754 train_step\n        y_pred = self(x, training=True)\n    /home/swagmaster/anaconda3/envs/tf/lib/python3.9/site-packages/tensorflow/python/keras/engine/base_layer.py:998 __call__\n        input_spec.assert_input_compatibility(self.input_spec, inputs, self.name)\n    /home/swagmaster/anaconda3/envs/tf/lib/python3.9/site-packages/tensorflow/python/keras/engine/input_spec.py:219 assert_input_compatibility\n        raise ValueError('Input ' + str(input_index) + ' of layer ' +\n\n    ValueError: Input 0 of layer sequential_5 is incompatible with the layer: expected ndim=5, found ndim=4. Full shape received: (1, 64, 1024, 1)\n"
     ]
    }
   ],
   "source": [
    "model.fit(\n",
    "    x=mi_tensor,\n",
    "    y=class_mi,\n",
    "    batch_size=1,\n",
    "    validation_data=(real_tensor, class_real),\n",
    "    epochs=10,\n",
    "    verbose=2)"
   ]
  },
  {
   "cell_type": "code",
   "execution_count": null,
   "id": "934da537",
   "metadata": {},
   "outputs": [],
   "source": []
  },
  {
   "cell_type": "code",
   "execution_count": null,
   "id": "039099c7",
   "metadata": {},
   "outputs": [],
   "source": []
  },
  {
   "cell_type": "code",
   "execution_count": null,
   "id": "7dd4a99c",
   "metadata": {},
   "outputs": [],
   "source": []
  },
  {
   "cell_type": "code",
   "execution_count": 9,
   "id": "28c28469",
   "metadata": {},
   "outputs": [],
   "source": [
    "model_cnn_basic = tf.keras.models.Sequential([\n",
    "  tf.keras.layers.Conv2D(128, (4,4), activation='relu', input_shape=(64, 1024, 1)),\n",
    "  tf.keras.layers.MaxPooling2D(3, 3),\n",
    "  tf.keras.layers.Conv2D(128, (4,4), activation='relu'),\n",
    "  tf.keras.layers.MaxPooling2D(3,3),\n",
    "  tf.keras.layers.Flatten(),\n",
    "  tf.keras.layers.Dense(512, activation='relu'),\n",
    "  tf.keras.layers.Dense(128, activation='relu'),\n",
    "  tf.keras.layers.Dense(10, activation='softmax')\n",
    "])"
   ]
  },
  {
   "cell_type": "code",
   "execution_count": 10,
   "id": "e547a2a2",
   "metadata": {},
   "outputs": [],
   "source": [
    "model_cnn_basic.compile(loss = tf.keras.losses.SparseCategoricalCrossentropy(from_logits=True))"
   ]
  },
  {
   "cell_type": "code",
   "execution_count": 11,
   "id": "4cd51cf5",
   "metadata": {
    "collapsed": true
   },
   "outputs": [
    {
     "data": {
      "text/plain": [
       "<tf.Tensor: shape=(200, 64, 1024, 1), dtype=float64, numpy=\n",
       "array([[[[-9.09148312e+00],\n",
       "         [-9.18334103e+00],\n",
       "         [-9.13973331e+00],\n",
       "         ...,\n",
       "         [-8.90516663e+00],\n",
       "         [-8.84207630e+00],\n",
       "         [-8.71076107e+00]],\n",
       "\n",
       "        [[-1.06371918e+02],\n",
       "         [-1.07051544e+02],\n",
       "         [-1.06715981e+02],\n",
       "         ...,\n",
       "         [-1.05157043e+02],\n",
       "         [-1.04579742e+02],\n",
       "         [-1.03482391e+02]],\n",
       "\n",
       "        [[-5.67636108e+02],\n",
       "         [-5.70092834e+02],\n",
       "         [-5.68882690e+02],\n",
       "         ...,\n",
       "         [-5.63805115e+02],\n",
       "         [-5.61303833e+02],\n",
       "         [-5.56863708e+02]],\n",
       "\n",
       "        ...,\n",
       "\n",
       "        [[ 4.56447852e+04],\n",
       "         [ 8.72393359e+04],\n",
       "         [ 4.82432930e+04],\n",
       "         ...,\n",
       "         [ 1.31842148e+04],\n",
       "         [ 6.85449688e+04],\n",
       "         [-1.93912305e+04]],\n",
       "\n",
       "        [[ 3.85506484e+04],\n",
       "         [ 8.26777812e+04],\n",
       "         [ 4.24533789e+04],\n",
       "         ...,\n",
       "         [ 4.46134180e+03],\n",
       "         [ 6.29898047e+04],\n",
       "         [-2.59011992e+04]],\n",
       "\n",
       "        [[ 2.68374883e+04],\n",
       "         [ 7.36024688e+04],\n",
       "         [ 3.20350527e+04],\n",
       "         ...,\n",
       "         [-9.25934961e+03],\n",
       "         [ 5.27399844e+04],\n",
       "         [-3.72271250e+04]]],\n",
       "\n",
       "\n",
       "       [[[-9.40419197e+00],\n",
       "         [-9.37289333e+00],\n",
       "         [-9.36937618e+00],\n",
       "         ...,\n",
       "         [-9.01777267e+00],\n",
       "         [-8.99020100e+00],\n",
       "         [-8.99399948e+00]],\n",
       "\n",
       "        [[-1.09380157e+02],\n",
       "         [-1.09097771e+02],\n",
       "         [-1.09097099e+02],\n",
       "         ...,\n",
       "         [-1.06468819e+02],\n",
       "         [-1.06233681e+02],\n",
       "         [-1.06269409e+02]],\n",
       "\n",
       "        [[-5.80737366e+02],\n",
       "         [-5.79474426e+02],\n",
       "         [-5.79555115e+02],\n",
       "         ...,\n",
       "         [-5.69900330e+02],\n",
       "         [-5.68906494e+02],\n",
       "         [-5.69106140e+02]],\n",
       "\n",
       "        ...,\n",
       "\n",
       "        [[ 9.24861016e+04],\n",
       "         [ 3.65615234e+04],\n",
       "         [ 3.34908984e+04],\n",
       "         ...,\n",
       "         [ 5.11237852e+04],\n",
       "         [-2.54520254e+04],\n",
       "         [-3.06800854e+03]],\n",
       "\n",
       "        [[ 8.26651172e+04],\n",
       "         [ 2.91221680e+04],\n",
       "         [ 2.73139141e+04],\n",
       "         ...,\n",
       "         [ 4.34300781e+04],\n",
       "         [-3.38148750e+04],\n",
       "         [-1.02551924e+04]],\n",
       "\n",
       "        [[ 6.85059688e+04],\n",
       "         [ 1.71542793e+04],\n",
       "         [ 1.63225361e+04],\n",
       "         ...,\n",
       "         [ 3.10389141e+04],\n",
       "         [-4.71248516e+04],\n",
       "         [-2.22662715e+04]]],\n",
       "\n",
       "\n",
       "       [[[-7.80414438e+00],\n",
       "         [-7.76236534e+00],\n",
       "         [-7.76503801e+00],\n",
       "         ...,\n",
       "         [-9.70184898e+00],\n",
       "         [-9.76557255e+00],\n",
       "         [-9.74623013e+00]],\n",
       "\n",
       "        [[-9.67053223e+01],\n",
       "         [-9.63640594e+01],\n",
       "         [-9.64130554e+01],\n",
       "         ...,\n",
       "         [-1.11599121e+02],\n",
       "         [-1.12036407e+02],\n",
       "         [-1.11853554e+02]],\n",
       "\n",
       "        [[-5.31512573e+02],\n",
       "         [-5.30161255e+02],\n",
       "         [-5.30422363e+02],\n",
       "         ...,\n",
       "         [-5.88737122e+02],\n",
       "         [-5.90168701e+02],\n",
       "         [-5.89382874e+02]],\n",
       "\n",
       "        ...,\n",
       "\n",
       "        [[-3.01932788e+03],\n",
       "         [ 3.10341777e+04],\n",
       "         [ 1.03237568e+04],\n",
       "         ...,\n",
       "         [ 7.20663125e+04],\n",
       "         [ 5.01039297e+04],\n",
       "         [ 7.44976172e+04]],\n",
       "\n",
       "        [[-1.07025439e+04],\n",
       "         [ 2.34442090e+04],\n",
       "         [ 1.22840332e+03],\n",
       "         ...,\n",
       "         [ 6.59158359e+04],\n",
       "         [ 4.37809297e+04],\n",
       "         [ 7.11812422e+04]],\n",
       "\n",
       "        [[-2.31050215e+04],\n",
       "         [ 1.07264355e+04],\n",
       "         [-1.25340137e+04],\n",
       "         ...,\n",
       "         [ 5.49565352e+04],\n",
       "         [ 3.25662461e+04],\n",
       "         [ 6.31501992e+04]]],\n",
       "\n",
       "\n",
       "       ...,\n",
       "\n",
       "\n",
       "       [[[-1.22377024e+01],\n",
       "         [-1.21566763e+01],\n",
       "         [-1.21480961e+01],\n",
       "         ...,\n",
       "         [-1.19227428e+01],\n",
       "         [-1.19458828e+01],\n",
       "         [-1.19335041e+01]],\n",
       "\n",
       "        [[-1.30894623e+02],\n",
       "         [-1.30280396e+02],\n",
       "         [-1.30230453e+02],\n",
       "         ...,\n",
       "         [-1.28605072e+02],\n",
       "         [-1.28747070e+02],\n",
       "         [-1.28623001e+02]],\n",
       "\n",
       "        [[-6.70011292e+02],\n",
       "         [-6.67732849e+02],\n",
       "         [-6.67595459e+02],\n",
       "         ...,\n",
       "         [-6.61857361e+02],\n",
       "         [-6.62258118e+02],\n",
       "         [-6.61647156e+02]],\n",
       "\n",
       "        ...,\n",
       "\n",
       "        [[ 6.88818359e+04],\n",
       "         [ 9.47632734e+04],\n",
       "         [ 1.15461508e+05],\n",
       "         ...,\n",
       "         [ 9.64102500e+04],\n",
       "         [ 1.01309562e+05],\n",
       "         [ 9.64329688e+04]],\n",
       "\n",
       "        [[ 5.43673203e+04],\n",
       "         [ 8.08198516e+04],\n",
       "         [ 1.02939391e+05],\n",
       "         ...,\n",
       "         [ 8.43572656e+04],\n",
       "         [ 8.86414844e+04],\n",
       "         [ 8.43585469e+04]],\n",
       "\n",
       "        [[ 3.17103730e+04],\n",
       "         [ 5.86986328e+04],\n",
       "         [ 8.25656953e+04],\n",
       "         ...,\n",
       "         [ 6.42265391e+04],\n",
       "         [ 6.77937891e+04],\n",
       "         [ 6.43658594e+04]]],\n",
       "\n",
       "\n",
       "       [[[-1.22216663e+01],\n",
       "         [-1.21822786e+01],\n",
       "         [-1.21736269e+01],\n",
       "         ...,\n",
       "         [-1.20290890e+01],\n",
       "         [-1.20530033e+01],\n",
       "         [-1.20475874e+01]],\n",
       "\n",
       "        [[-1.30826828e+02],\n",
       "         [-1.30524033e+02],\n",
       "         [-1.30407410e+02],\n",
       "         ...,\n",
       "         [-1.29317657e+02],\n",
       "         [-1.29482697e+02],\n",
       "         [-1.29449890e+02]],\n",
       "\n",
       "        [[-6.69897339e+02],\n",
       "         [-6.68742798e+02],\n",
       "         [-6.68125000e+02],\n",
       "         ...,\n",
       "         [-6.64079468e+02],\n",
       "         [-6.64569702e+02],\n",
       "         [-6.64462952e+02]],\n",
       "\n",
       "        ...,\n",
       "\n",
       "        [[ 1.15742695e+05],\n",
       "         [ 7.19352969e+04],\n",
       "         [ 9.03556016e+04],\n",
       "         ...,\n",
       "         [ 8.05564062e+04],\n",
       "         [ 1.11977477e+05],\n",
       "         [ 9.36179297e+04]],\n",
       "\n",
       "        [[ 1.04151219e+05],\n",
       "         [ 5.64701797e+04],\n",
       "         [ 7.90999297e+04],\n",
       "         ...,\n",
       "         [ 6.61174062e+04],\n",
       "         [ 1.01524688e+05],\n",
       "         [ 8.10658906e+04]],\n",
       "\n",
       "        [[ 8.46602031e+04],\n",
       "         [ 3.27137363e+04],\n",
       "         [ 5.99253750e+04],\n",
       "         ...,\n",
       "         [ 4.34187383e+04],\n",
       "         [ 8.31944375e+04],\n",
       "         [ 6.05008320e+04]]],\n",
       "\n",
       "\n",
       "       [[[ 0.00000000e+00],\n",
       "         [ 0.00000000e+00],\n",
       "         [ 0.00000000e+00],\n",
       "         ...,\n",
       "         [ 0.00000000e+00],\n",
       "         [ 0.00000000e+00],\n",
       "         [ 0.00000000e+00]],\n",
       "\n",
       "        [[ 0.00000000e+00],\n",
       "         [ 0.00000000e+00],\n",
       "         [ 0.00000000e+00],\n",
       "         ...,\n",
       "         [ 0.00000000e+00],\n",
       "         [ 0.00000000e+00],\n",
       "         [ 0.00000000e+00]],\n",
       "\n",
       "        [[ 0.00000000e+00],\n",
       "         [ 0.00000000e+00],\n",
       "         [ 0.00000000e+00],\n",
       "         ...,\n",
       "         [ 0.00000000e+00],\n",
       "         [ 0.00000000e+00],\n",
       "         [ 0.00000000e+00]],\n",
       "\n",
       "        ...,\n",
       "\n",
       "        [[ 0.00000000e+00],\n",
       "         [ 0.00000000e+00],\n",
       "         [ 0.00000000e+00],\n",
       "         ...,\n",
       "         [ 0.00000000e+00],\n",
       "         [ 0.00000000e+00],\n",
       "         [ 0.00000000e+00]],\n",
       "\n",
       "        [[ 0.00000000e+00],\n",
       "         [ 0.00000000e+00],\n",
       "         [ 0.00000000e+00],\n",
       "         ...,\n",
       "         [ 0.00000000e+00],\n",
       "         [ 0.00000000e+00],\n",
       "         [ 0.00000000e+00]],\n",
       "\n",
       "        [[ 0.00000000e+00],\n",
       "         [ 0.00000000e+00],\n",
       "         [ 0.00000000e+00],\n",
       "         ...,\n",
       "         [ 0.00000000e+00],\n",
       "         [ 0.00000000e+00],\n",
       "         [ 0.00000000e+00]]]])>"
      ]
     },
     "execution_count": 11,
     "metadata": {},
     "output_type": "execute_result"
    }
   ],
   "source": [
    "tf.reshape(new_mat, shape = (200, 64, 1024, 1))"
   ]
  },
  {
   "cell_type": "code",
   "execution_count": 12,
   "id": "59139c70",
   "metadata": {},
   "outputs": [
    {
     "data": {
      "text/plain": [
       "array([0, 0, 0, 0, 0, 0, 0, 0, 0, 0, 0, 0, 0, 0, 0, 0, 0, 0, 0, 0, 0, 0,\n",
       "       0, 0, 0, 0, 0, 0, 0, 0, 0, 0, 0, 0, 0, 0, 0, 0, 0, 0, 0, 0, 0, 0,\n",
       "       0, 0, 0, 0, 0, 0, 0, 0, 0, 0, 0, 0, 0, 0, 0, 0, 0, 0, 0, 0, 0, 0,\n",
       "       0, 0, 0, 0, 0, 0, 0, 0, 0, 0, 0, 0, 0, 0, 0, 0, 0, 0, 0, 0, 0, 0,\n",
       "       0, 0, 0, 0, 0, 0, 0, 0, 0, 0, 0, 0, 1, 1, 1, 1, 1, 1, 1, 1, 1, 1,\n",
       "       1, 1, 1, 1, 1, 1, 1, 1, 1, 1, 1, 1, 1, 1, 1, 1, 1, 1, 1, 1, 1, 1,\n",
       "       1, 1, 1, 1, 1, 1, 1, 1, 1, 1, 1, 1, 1, 1, 1, 1, 1, 1, 1, 1, 1, 1,\n",
       "       1, 1, 1, 1, 1, 1, 1, 1, 1, 1, 1, 1, 1, 1, 1, 1, 1, 1, 1, 1, 1, 1,\n",
       "       1, 1, 1, 1, 1, 1, 1, 1, 1, 1, 1, 1, 1, 1, 1, 1, 1, 1, 1, 1, 1, 1,\n",
       "       1, 1], dtype=uint8)"
      ]
     },
     "execution_count": 12,
     "metadata": {},
     "output_type": "execute_result"
    }
   ],
   "source": [
    "np.array(mat['class_mi'])[0] - 1"
   ]
  },
  {
   "cell_type": "code",
   "execution_count": 13,
   "id": "e2732448",
   "metadata": {},
   "outputs": [],
   "source": [
    "x = tf.reshape(new_mat, shape = (200, 64, 1024, 1))\n",
    "y = tf.reshape(mat['class_mi'] , 200)"
   ]
  },
  {
   "cell_type": "code",
   "execution_count": 14,
   "id": "14e520ba",
   "metadata": {},
   "outputs": [
    {
     "data": {
      "text/plain": [
       "<tf.Tensor: shape=(200,), dtype=uint8, numpy=\n",
       "array([1, 1, 1, 1, 1, 1, 1, 1, 1, 1, 1, 1, 1, 1, 1, 1, 1, 1, 1, 1, 1, 1,\n",
       "       1, 1, 1, 1, 1, 1, 1, 1, 1, 1, 1, 1, 1, 1, 1, 1, 1, 1, 1, 1, 1, 1,\n",
       "       1, 1, 1, 1, 1, 1, 1, 1, 1, 1, 1, 1, 1, 1, 1, 1, 1, 1, 1, 1, 1, 1,\n",
       "       1, 1, 1, 1, 1, 1, 1, 1, 1, 1, 1, 1, 1, 1, 1, 1, 1, 1, 1, 1, 1, 1,\n",
       "       1, 1, 1, 1, 1, 1, 1, 1, 1, 1, 1, 1, 2, 2, 2, 2, 2, 2, 2, 2, 2, 2,\n",
       "       2, 2, 2, 2, 2, 2, 2, 2, 2, 2, 2, 2, 2, 2, 2, 2, 2, 2, 2, 2, 2, 2,\n",
       "       2, 2, 2, 2, 2, 2, 2, 2, 2, 2, 2, 2, 2, 2, 2, 2, 2, 2, 2, 2, 2, 2,\n",
       "       2, 2, 2, 2, 2, 2, 2, 2, 2, 2, 2, 2, 2, 2, 2, 2, 2, 2, 2, 2, 2, 2,\n",
       "       2, 2, 2, 2, 2, 2, 2, 2, 2, 2, 2, 2, 2, 2, 2, 2, 2, 2, 2, 2, 2, 2,\n",
       "       2, 2], dtype=uint8)>"
      ]
     },
     "execution_count": 14,
     "metadata": {},
     "output_type": "execute_result"
    }
   ],
   "source": [
    "y"
   ]
  },
  {
   "cell_type": "code",
   "execution_count": 15,
   "id": "2696a38e",
   "metadata": {},
   "outputs": [
    {
     "name": "stdout",
     "output_type": "stream",
     "text": [
      "7/7 [==============================] - 18s 2s/step - loss: 237893.3278\n"
     ]
    },
    {
     "data": {
      "text/plain": [
       "<tensorflow.python.keras.callbacks.History at 0x7fde7927e4c0>"
      ]
     },
     "execution_count": 15,
     "metadata": {},
     "output_type": "execute_result"
    }
   ],
   "source": [
    "model_cnn_basic.fit(x, y,verbose = 1)"
   ]
  },
  {
   "cell_type": "code",
   "execution_count": 16,
   "id": "7a82fe73",
   "metadata": {},
   "outputs": [
    {
     "data": {
      "text/plain": [
       "<tf.Tensor: shape=(200,), dtype=uint8, numpy=\n",
       "array([1, 1, 1, 1, 1, 1, 1, 1, 1, 1, 1, 1, 1, 1, 1, 1, 1, 1, 1, 1, 1, 1,\n",
       "       1, 1, 1, 1, 1, 1, 1, 1, 1, 1, 1, 1, 1, 1, 1, 1, 1, 1, 1, 1, 1, 1,\n",
       "       1, 1, 1, 1, 1, 1, 1, 1, 1, 1, 1, 1, 1, 1, 1, 1, 1, 1, 1, 1, 1, 1,\n",
       "       1, 1, 1, 1, 1, 1, 1, 1, 1, 1, 1, 1, 1, 1, 1, 1, 1, 1, 1, 1, 1, 1,\n",
       "       1, 1, 1, 1, 1, 1, 1, 1, 1, 1, 1, 1, 2, 2, 2, 2, 2, 2, 2, 2, 2, 2,\n",
       "       2, 2, 2, 2, 2, 2, 2, 2, 2, 2, 2, 2, 2, 2, 2, 2, 2, 2, 2, 2, 2, 2,\n",
       "       2, 2, 2, 2, 2, 2, 2, 2, 2, 2, 2, 2, 2, 2, 2, 2, 2, 2, 2, 2, 2, 2,\n",
       "       2, 2, 2, 2, 2, 2, 2, 2, 2, 2, 2, 2, 2, 2, 2, 2, 2, 2, 2, 2, 2, 2,\n",
       "       2, 2, 2, 2, 2, 2, 2, 2, 2, 2, 2, 2, 2, 2, 2, 2, 2, 2, 2, 2, 2, 2,\n",
       "       2, 2], dtype=uint8)>"
      ]
     },
     "execution_count": 16,
     "metadata": {},
     "output_type": "execute_result"
    }
   ],
   "source": [
    "tf.reshape(mat['class_mi'], 200)"
   ]
  },
  {
   "cell_type": "code",
   "execution_count": 17,
   "id": "798e62f5",
   "metadata": {},
   "outputs": [
    {
     "data": {
      "text/plain": [
       "(200, 1)"
      ]
     },
     "execution_count": 17,
     "metadata": {},
     "output_type": "execute_result"
    }
   ],
   "source": [
    "mat['class_mi'].transpose().shape"
   ]
  }
 ],
 "metadata": {
  "kernelspec": {
   "display_name": "Python 3",
   "language": "python",
   "name": "python3"
  },
  "language_info": {
   "codemirror_mode": {
    "name": "ipython",
    "version": 3
   },
   "file_extension": ".py",
   "mimetype": "text/x-python",
   "name": "python",
   "nbconvert_exporter": "python",
   "pygments_lexer": "ipython3",
   "version": "3.9.5"
  }
 },
 "nbformat": 4,
 "nbformat_minor": 5
}
