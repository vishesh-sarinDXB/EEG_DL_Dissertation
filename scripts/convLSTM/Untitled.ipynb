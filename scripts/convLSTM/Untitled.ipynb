{
 "cells": [
  {
   "cell_type": "code",
   "execution_count": 1,
   "id": "63565b7b",
   "metadata": {},
   "outputs": [],
   "source": [
    "import scipy.io as sio\n",
    "import tensorflow as tf\n",
    "import numpy as np\n",
    "\n",
    "from tensorflow.keras import Model\n",
    "from tensorflow.keras.models import Sequential\n",
    "from tensorflow.keras.layers import (\n",
    "    Dense,\n",
    "    ConvLSTM2D,\n",
    "    GlobalMaxPooling2D, \n",
    "    )"
   ]
  },
  {
   "cell_type": "code",
   "execution_count": 2,
   "id": "3b260338",
   "metadata": {},
   "outputs": [],
   "source": [
    "mat = sio.loadmat('../../data/processed/sevenThirty/s01.mat')\n",
    "mi = mat['mi']\n",
    "real = mat['real']\n",
    "class_mi = mat['class_mi']\n",
    "class_real = mat['class_real']"
   ]
  },
  {
   "cell_type": "code",
   "execution_count": 3,
   "id": "21437b74",
   "metadata": {},
   "outputs": [],
   "source": [
    "mi_reshape = np.empty([mi.shape[2], 64, 1024])\n",
    "\n",
    "mi_intermediate = np.empty([mi.shape[2], 16, 64, 64])\n",
    "\n",
    "for i in range(0, mi.shape[2]):\n",
    "    mi_reshape[i, :, :] = mi[:, :, i]\n",
    "    \n",
    "    for n in range(0, mi_intermediate.shape[1]):\n",
    "\n",
    "        startIDX = (64 * n)\n",
    "        endIDX = startIDX + 64\n",
    "        \n",
    "        mi_intermediate[i, n, :, :] = mi_reshape[i, :, startIDX:endIDX]\n",
    "    \n",
    "mi_tensor = tf.reshape(mi_intermediate, shape = (mi.shape[2], mi_intermediate.shape[1], 64, 64, 1))\n",
    "\n",
    "class_mi_tensor = tf.reshape(class_mi , mi.shape[2])"
   ]
  },
  {
   "cell_type": "code",
   "execution_count": 4,
   "id": "96b6240f",
   "metadata": {},
   "outputs": [],
   "source": [
    "real_reshape = np.empty([real.shape[2], 64, 1024])\n",
    "\n",
    "real_intermediate = np.empty([real.shape[2], 16, 64, 64])\n",
    "\n",
    "for i in range(0, real.shape[2]):\n",
    "    real_reshape[i, :, :] = real[:, :, i]\n",
    "    \n",
    "    for n in range(0, real_intermediate.shape[1]):\n",
    "\n",
    "        startIDX = (64 * n)\n",
    "        endIDX = startIDX + 64\n",
    "        \n",
    "        real_intermediate[i, n, :, :] = real_reshape[i, :, startIDX:endIDX]\n",
    "    \n",
    "real_tensor = tf.reshape(real_intermediate, shape = (real.shape[2], real_intermediate.shape[1], 64, 64, 1))\n",
    "\n",
    "class_real_tensor = tf.reshape(class_real , real.shape[2])"
   ]
  },
  {
   "cell_type": "code",
   "execution_count": 5,
   "id": "c9521035",
   "metadata": {},
   "outputs": [],
   "source": [
    "opt = tf.keras.optimizers.RMSprop(\n",
    "    lr=0.001)\n",
    "\n",
    "loss = tf.keras.losses.BinaryCrossentropy()"
   ]
  },
  {
   "cell_type": "code",
   "execution_count": 6,
   "id": "cfcf5585",
   "metadata": {},
   "outputs": [],
   "source": [
    "model = Sequential()\n",
    "model.add(ConvLSTM2D(\n",
    "    filters=4,\n",
    "    kernel_size=(4, 4),\n",
    "    padding='same',\n",
    "    data_format='channels_last',\n",
    "    return_sequences=False,\n",
    "#     input_shape=(64, 1024, 1)\n",
    "    ))\n",
    "model.add(GlobalMaxPooling2D())\n",
    "model.add(Dense(512, activation='relu'))\n",
    "model.add(Dense(256, activation='relu'))\n",
    "model.add(Dense(1, activation='sigmoid'))"
   ]
  },
  {
   "cell_type": "code",
   "execution_count": 7,
   "id": "ad38f738",
   "metadata": {},
   "outputs": [],
   "source": [
    "model.compile(\n",
    "    optimizer=opt,\n",
    "    loss=loss,\n",
    "    metrics=['accuracy'])"
   ]
  },
  {
   "cell_type": "code",
   "execution_count": 8,
   "id": "a3cfd825",
   "metadata": {},
   "outputs": [
    {
     "ename": "ValueError",
     "evalue": "Data cardinality is ambiguous:\n  x sizes: 200\n  y sizes: 1\nMake sure all arrays contain the same number of samples.",
     "output_type": "error",
     "traceback": [
      "\u001b[0;31m---------------------------------------------------------------------------\u001b[0m",
      "\u001b[0;31mValueError\u001b[0m                                Traceback (most recent call last)",
      "\u001b[0;32m<ipython-input-8-d94e3c2c4f44>\u001b[0m in \u001b[0;36m<module>\u001b[0;34m\u001b[0m\n\u001b[0;32m----> 1\u001b[0;31m model.fit(\n\u001b[0m\u001b[1;32m      2\u001b[0m     \u001b[0mx\u001b[0m\u001b[0;34m=\u001b[0m\u001b[0mmi_tensor\u001b[0m\u001b[0;34m,\u001b[0m\u001b[0;34m\u001b[0m\u001b[0;34m\u001b[0m\u001b[0m\n\u001b[1;32m      3\u001b[0m     \u001b[0my\u001b[0m\u001b[0;34m=\u001b[0m\u001b[0mclass_mi\u001b[0m\u001b[0;34m,\u001b[0m\u001b[0;34m\u001b[0m\u001b[0;34m\u001b[0m\u001b[0m\n\u001b[1;32m      4\u001b[0m     \u001b[0mbatch_size\u001b[0m\u001b[0;34m=\u001b[0m\u001b[0;36m1\u001b[0m\u001b[0;34m,\u001b[0m\u001b[0;34m\u001b[0m\u001b[0;34m\u001b[0m\u001b[0m\n\u001b[1;32m      5\u001b[0m     \u001b[0mvalidation_data\u001b[0m\u001b[0;34m=\u001b[0m\u001b[0;34m(\u001b[0m\u001b[0mreal_tensor\u001b[0m\u001b[0;34m,\u001b[0m \u001b[0mclass_real\u001b[0m\u001b[0;34m)\u001b[0m\u001b[0;34m,\u001b[0m\u001b[0;34m\u001b[0m\u001b[0;34m\u001b[0m\u001b[0m\n",
      "\u001b[0;32m~/anaconda3/envs/tf/lib/python3.9/site-packages/tensorflow/python/keras/engine/training.py\u001b[0m in \u001b[0;36mfit\u001b[0;34m(self, x, y, batch_size, epochs, verbose, callbacks, validation_split, validation_data, shuffle, class_weight, sample_weight, initial_epoch, steps_per_epoch, validation_steps, validation_batch_size, validation_freq, max_queue_size, workers, use_multiprocessing)\u001b[0m\n\u001b[1;32m   1048\u001b[0m          \u001b[0mtraining_utils\u001b[0m\u001b[0;34m.\u001b[0m\u001b[0mRespectCompiledTrainableState\u001b[0m\u001b[0;34m(\u001b[0m\u001b[0mself\u001b[0m\u001b[0;34m)\u001b[0m\u001b[0;34m:\u001b[0m\u001b[0;34m\u001b[0m\u001b[0;34m\u001b[0m\u001b[0m\n\u001b[1;32m   1049\u001b[0m       \u001b[0;31m# Creates a `tf.data.Dataset` and handles batch and epoch iteration.\u001b[0m\u001b[0;34m\u001b[0m\u001b[0;34m\u001b[0m\u001b[0;34m\u001b[0m\u001b[0m\n\u001b[0;32m-> 1050\u001b[0;31m       data_handler = data_adapter.DataHandler(\n\u001b[0m\u001b[1;32m   1051\u001b[0m           \u001b[0mx\u001b[0m\u001b[0;34m=\u001b[0m\u001b[0mx\u001b[0m\u001b[0;34m,\u001b[0m\u001b[0;34m\u001b[0m\u001b[0;34m\u001b[0m\u001b[0m\n\u001b[1;32m   1052\u001b[0m           \u001b[0my\u001b[0m\u001b[0;34m=\u001b[0m\u001b[0my\u001b[0m\u001b[0;34m,\u001b[0m\u001b[0;34m\u001b[0m\u001b[0;34m\u001b[0m\u001b[0m\n",
      "\u001b[0;32m~/anaconda3/envs/tf/lib/python3.9/site-packages/tensorflow/python/keras/engine/data_adapter.py\u001b[0m in \u001b[0;36m__init__\u001b[0;34m(self, x, y, sample_weight, batch_size, steps_per_epoch, initial_epoch, epochs, shuffle, class_weight, max_queue_size, workers, use_multiprocessing, model, steps_per_execution)\u001b[0m\n\u001b[1;32m   1098\u001b[0m \u001b[0;34m\u001b[0m\u001b[0m\n\u001b[1;32m   1099\u001b[0m     \u001b[0madapter_cls\u001b[0m \u001b[0;34m=\u001b[0m \u001b[0mselect_data_adapter\u001b[0m\u001b[0;34m(\u001b[0m\u001b[0mx\u001b[0m\u001b[0;34m,\u001b[0m \u001b[0my\u001b[0m\u001b[0;34m)\u001b[0m\u001b[0;34m\u001b[0m\u001b[0;34m\u001b[0m\u001b[0m\n\u001b[0;32m-> 1100\u001b[0;31m     self._adapter = adapter_cls(\n\u001b[0m\u001b[1;32m   1101\u001b[0m         \u001b[0mx\u001b[0m\u001b[0;34m,\u001b[0m\u001b[0;34m\u001b[0m\u001b[0;34m\u001b[0m\u001b[0m\n\u001b[1;32m   1102\u001b[0m         \u001b[0my\u001b[0m\u001b[0;34m,\u001b[0m\u001b[0;34m\u001b[0m\u001b[0;34m\u001b[0m\u001b[0m\n",
      "\u001b[0;32m~/anaconda3/envs/tf/lib/python3.9/site-packages/tensorflow/python/keras/engine/data_adapter.py\u001b[0m in \u001b[0;36m__init__\u001b[0;34m(self, x, y, sample_weights, sample_weight_modes, batch_size, epochs, steps, shuffle, **kwargs)\u001b[0m\n\u001b[1;32m    272\u001b[0m \u001b[0;34m\u001b[0m\u001b[0m\n\u001b[1;32m    273\u001b[0m     \u001b[0mnum_samples\u001b[0m \u001b[0;34m=\u001b[0m \u001b[0mset\u001b[0m\u001b[0;34m(\u001b[0m\u001b[0mint\u001b[0m\u001b[0;34m(\u001b[0m\u001b[0mi\u001b[0m\u001b[0;34m.\u001b[0m\u001b[0mshape\u001b[0m\u001b[0;34m[\u001b[0m\u001b[0;36m0\u001b[0m\u001b[0;34m]\u001b[0m\u001b[0;34m)\u001b[0m \u001b[0;32mfor\u001b[0m \u001b[0mi\u001b[0m \u001b[0;32min\u001b[0m \u001b[0mnest\u001b[0m\u001b[0;34m.\u001b[0m\u001b[0mflatten\u001b[0m\u001b[0;34m(\u001b[0m\u001b[0minputs\u001b[0m\u001b[0;34m)\u001b[0m\u001b[0;34m)\u001b[0m\u001b[0;34m.\u001b[0m\u001b[0mpop\u001b[0m\u001b[0;34m(\u001b[0m\u001b[0;34m)\u001b[0m\u001b[0;34m\u001b[0m\u001b[0;34m\u001b[0m\u001b[0m\n\u001b[0;32m--> 274\u001b[0;31m     \u001b[0m_check_data_cardinality\u001b[0m\u001b[0;34m(\u001b[0m\u001b[0minputs\u001b[0m\u001b[0;34m)\u001b[0m\u001b[0;34m\u001b[0m\u001b[0;34m\u001b[0m\u001b[0m\n\u001b[0m\u001b[1;32m    275\u001b[0m \u001b[0;34m\u001b[0m\u001b[0m\n\u001b[1;32m    276\u001b[0m     \u001b[0;31m# If batch_size is not passed but steps is, calculate from the input data.\u001b[0m\u001b[0;34m\u001b[0m\u001b[0;34m\u001b[0m\u001b[0;34m\u001b[0m\u001b[0m\n",
      "\u001b[0;32m~/anaconda3/envs/tf/lib/python3.9/site-packages/tensorflow/python/keras/engine/data_adapter.py\u001b[0m in \u001b[0;36m_check_data_cardinality\u001b[0;34m(data)\u001b[0m\n\u001b[1;32m   1527\u001b[0m           label, \", \".join(str(i.shape[0]) for i in nest.flatten(single_data)))\n\u001b[1;32m   1528\u001b[0m     \u001b[0mmsg\u001b[0m \u001b[0;34m+=\u001b[0m \u001b[0;34m\"Make sure all arrays contain the same number of samples.\"\u001b[0m\u001b[0;34m\u001b[0m\u001b[0;34m\u001b[0m\u001b[0m\n\u001b[0;32m-> 1529\u001b[0;31m     \u001b[0;32mraise\u001b[0m \u001b[0mValueError\u001b[0m\u001b[0;34m(\u001b[0m\u001b[0mmsg\u001b[0m\u001b[0;34m)\u001b[0m\u001b[0;34m\u001b[0m\u001b[0;34m\u001b[0m\u001b[0m\n\u001b[0m\u001b[1;32m   1530\u001b[0m \u001b[0;34m\u001b[0m\u001b[0m\n\u001b[1;32m   1531\u001b[0m \u001b[0;34m\u001b[0m\u001b[0m\n",
      "\u001b[0;31mValueError\u001b[0m: Data cardinality is ambiguous:\n  x sizes: 200\n  y sizes: 1\nMake sure all arrays contain the same number of samples."
     ]
    }
   ],
   "source": [
    "model.fit(\n",
    "    x=mi_tensor,\n",
    "    y=class_mi_tensor,\n",
    "    batch_size=1,\n",
    "    validation_data=(real_tensor, class_real_tensor),\n",
    "    epochs=10,\n",
    "    verbose=2)"
   ]
  },
  {
   "cell_type": "code",
   "execution_count": null,
   "id": "934da537",
   "metadata": {},
   "outputs": [],
   "source": []
  },
  {
   "cell_type": "code",
   "execution_count": null,
   "id": "039099c7",
   "metadata": {},
   "outputs": [],
   "source": []
  },
  {
   "cell_type": "code",
   "execution_count": null,
   "id": "7dd4a99c",
   "metadata": {},
   "outputs": [],
   "source": []
  },
  {
   "cell_type": "code",
   "execution_count": 9,
   "id": "28c28469",
   "metadata": {},
   "outputs": [],
   "source": [
    "model_cnn_basic = tf.keras.models.Sequential([\n",
    "  tf.keras.layers.Conv2D(128, (4,4), activation='relu', input_shape=(64, 1024, 1)),\n",
    "  tf.keras.layers.MaxPooling2D(3, 3),\n",
    "  tf.keras.layers.Conv2D(128, (4,4), activation='relu'),\n",
    "  tf.keras.layers.MaxPooling2D(3,3),\n",
    "  tf.keras.layers.Flatten(),\n",
    "  tf.keras.layers.Dense(512, activation='relu'),\n",
    "  tf.keras.layers.Dense(128, activation='relu'),\n",
    "  tf.keras.layers.Dense(10, activation='softmax')\n",
    "])"
   ]
  },
  {
   "cell_type": "code",
   "execution_count": 10,
   "id": "e547a2a2",
   "metadata": {},
   "outputs": [],
   "source": [
    "model_cnn_basic.compile(loss = tf.keras.losses.SparseCategoricalCrossentropy(from_logits=True))"
   ]
  },
  {
   "cell_type": "code",
   "execution_count": 11,
   "id": "4cd51cf5",
   "metadata": {
    "collapsed": true
   },
   "outputs": [
    {
     "data": {
      "text/plain": [
       "<tf.Tensor: shape=(200, 64, 1024, 1), dtype=float64, numpy=\n",
       "array([[[[-9.09148312e+00],\n",
       "         [-9.18334103e+00],\n",
       "         [-9.13973331e+00],\n",
       "         ...,\n",
       "         [-8.90516663e+00],\n",
       "         [-8.84207630e+00],\n",
       "         [-8.71076107e+00]],\n",
       "\n",
       "        [[-1.06371918e+02],\n",
       "         [-1.07051544e+02],\n",
       "         [-1.06715981e+02],\n",
       "         ...,\n",
       "         [-1.05157043e+02],\n",
       "         [-1.04579742e+02],\n",
       "         [-1.03482391e+02]],\n",
       "\n",
       "        [[-5.67636108e+02],\n",
       "         [-5.70092834e+02],\n",
       "         [-5.68882690e+02],\n",
       "         ...,\n",
       "         [-5.63805115e+02],\n",
       "         [-5.61303833e+02],\n",
       "         [-5.56863708e+02]],\n",
       "\n",
       "        ...,\n",
       "\n",
       "        [[ 4.56447852e+04],\n",
       "         [ 8.72393359e+04],\n",
       "         [ 4.82432930e+04],\n",
       "         ...,\n",
       "         [ 1.31842148e+04],\n",
       "         [ 6.85449688e+04],\n",
       "         [-1.93912305e+04]],\n",
       "\n",
       "        [[ 3.85506484e+04],\n",
       "         [ 8.26777812e+04],\n",
       "         [ 4.24533789e+04],\n",
       "         ...,\n",
       "         [ 4.46134180e+03],\n",
       "         [ 6.29898047e+04],\n",
       "         [-2.59011992e+04]],\n",
       "\n",
       "        [[ 2.68374883e+04],\n",
       "         [ 7.36024688e+04],\n",
       "         [ 3.20350527e+04],\n",
       "         ...,\n",
       "         [-9.25934961e+03],\n",
       "         [ 5.27399844e+04],\n",
       "         [-3.72271250e+04]]],\n",
       "\n",
       "\n",
       "       [[[-9.40419197e+00],\n",
       "         [-9.37289333e+00],\n",
       "         [-9.36937618e+00],\n",
       "         ...,\n",
       "         [-9.01777267e+00],\n",
       "         [-8.99020100e+00],\n",
       "         [-8.99399948e+00]],\n",
       "\n",
       "        [[-1.09380157e+02],\n",
       "         [-1.09097771e+02],\n",
       "         [-1.09097099e+02],\n",
       "         ...,\n",
       "         [-1.06468819e+02],\n",
       "         [-1.06233681e+02],\n",
       "         [-1.06269409e+02]],\n",
       "\n",
       "        [[-5.80737366e+02],\n",
       "         [-5.79474426e+02],\n",
       "         [-5.79555115e+02],\n",
       "         ...,\n",
       "         [-5.69900330e+02],\n",
       "         [-5.68906494e+02],\n",
       "         [-5.69106140e+02]],\n",
       "\n",
       "        ...,\n",
       "\n",
       "        [[ 9.24861016e+04],\n",
       "         [ 3.65615234e+04],\n",
       "         [ 3.34908984e+04],\n",
       "         ...,\n",
       "         [ 5.11237852e+04],\n",
       "         [-2.54520254e+04],\n",
       "         [-3.06800854e+03]],\n",
       "\n",
       "        [[ 8.26651172e+04],\n",
       "         [ 2.91221680e+04],\n",
       "         [ 2.73139141e+04],\n",
       "         ...,\n",
       "         [ 4.34300781e+04],\n",
       "         [-3.38148750e+04],\n",
       "         [-1.02551924e+04]],\n",
       "\n",
       "        [[ 6.85059688e+04],\n",
       "         [ 1.71542793e+04],\n",
       "         [ 1.63225361e+04],\n",
       "         ...,\n",
       "         [ 3.10389141e+04],\n",
       "         [-4.71248516e+04],\n",
       "         [-2.22662715e+04]]],\n",
       "\n",
       "\n",
       "       [[[-7.80414438e+00],\n",
       "         [-7.76236534e+00],\n",
       "         [-7.76503801e+00],\n",
       "         ...,\n",
       "         [-9.70184898e+00],\n",
       "         [-9.76557255e+00],\n",
       "         [-9.74623013e+00]],\n",
       "\n",
       "        [[-9.67053223e+01],\n",
       "         [-9.63640594e+01],\n",
       "         [-9.64130554e+01],\n",
       "         ...,\n",
       "         [-1.11599121e+02],\n",
       "         [-1.12036407e+02],\n",
       "         [-1.11853554e+02]],\n",
       "\n",
       "        [[-5.31512573e+02],\n",
       "         [-5.30161255e+02],\n",
       "         [-5.30422363e+02],\n",
       "         ...,\n",
       "         [-5.88737122e+02],\n",
       "         [-5.90168701e+02],\n",
       "         [-5.89382874e+02]],\n",
       "\n",
       "        ...,\n",
       "\n",
       "        [[-3.01932788e+03],\n",
       "         [ 3.10341777e+04],\n",
       "         [ 1.03237568e+04],\n",
       "         ...,\n",
       "         [ 7.20663125e+04],\n",
       "         [ 5.01039297e+04],\n",
       "         [ 7.44976172e+04]],\n",
       "\n",
       "        [[-1.07025439e+04],\n",
       "         [ 2.34442090e+04],\n",
       "         [ 1.22840332e+03],\n",
       "         ...,\n",
       "         [ 6.59158359e+04],\n",
       "         [ 4.37809297e+04],\n",
       "         [ 7.11812422e+04]],\n",
       "\n",
       "        [[-2.31050215e+04],\n",
       "         [ 1.07264355e+04],\n",
       "         [-1.25340137e+04],\n",
       "         ...,\n",
       "         [ 5.49565352e+04],\n",
       "         [ 3.25662461e+04],\n",
       "         [ 6.31501992e+04]]],\n",
       "\n",
       "\n",
       "       ...,\n",
       "\n",
       "\n",
       "       [[[-1.22377024e+01],\n",
       "         [-1.21566763e+01],\n",
       "         [-1.21480961e+01],\n",
       "         ...,\n",
       "         [-1.19227428e+01],\n",
       "         [-1.19458828e+01],\n",
       "         [-1.19335041e+01]],\n",
       "\n",
       "        [[-1.30894623e+02],\n",
       "         [-1.30280396e+02],\n",
       "         [-1.30230453e+02],\n",
       "         ...,\n",
       "         [-1.28605072e+02],\n",
       "         [-1.28747070e+02],\n",
       "         [-1.28623001e+02]],\n",
       "\n",
       "        [[-6.70011292e+02],\n",
       "         [-6.67732849e+02],\n",
       "         [-6.67595459e+02],\n",
       "         ...,\n",
       "         [-6.61857361e+02],\n",
       "         [-6.62258118e+02],\n",
       "         [-6.61647156e+02]],\n",
       "\n",
       "        ...,\n",
       "\n",
       "        [[ 6.88818359e+04],\n",
       "         [ 9.47632734e+04],\n",
       "         [ 1.15461508e+05],\n",
       "         ...,\n",
       "         [ 9.64102500e+04],\n",
       "         [ 1.01309562e+05],\n",
       "         [ 9.64329688e+04]],\n",
       "\n",
       "        [[ 5.43673203e+04],\n",
       "         [ 8.08198516e+04],\n",
       "         [ 1.02939391e+05],\n",
       "         ...,\n",
       "         [ 8.43572656e+04],\n",
       "         [ 8.86414844e+04],\n",
       "         [ 8.43585469e+04]],\n",
       "\n",
       "        [[ 3.17103730e+04],\n",
       "         [ 5.86986328e+04],\n",
       "         [ 8.25656953e+04],\n",
       "         ...,\n",
       "         [ 6.42265391e+04],\n",
       "         [ 6.77937891e+04],\n",
       "         [ 6.43658594e+04]]],\n",
       "\n",
       "\n",
       "       [[[-1.22216663e+01],\n",
       "         [-1.21822786e+01],\n",
       "         [-1.21736269e+01],\n",
       "         ...,\n",
       "         [-1.20290890e+01],\n",
       "         [-1.20530033e+01],\n",
       "         [-1.20475874e+01]],\n",
       "\n",
       "        [[-1.30826828e+02],\n",
       "         [-1.30524033e+02],\n",
       "         [-1.30407410e+02],\n",
       "         ...,\n",
       "         [-1.29317657e+02],\n",
       "         [-1.29482697e+02],\n",
       "         [-1.29449890e+02]],\n",
       "\n",
       "        [[-6.69897339e+02],\n",
       "         [-6.68742798e+02],\n",
       "         [-6.68125000e+02],\n",
       "         ...,\n",
       "         [-6.64079468e+02],\n",
       "         [-6.64569702e+02],\n",
       "         [-6.64462952e+02]],\n",
       "\n",
       "        ...,\n",
       "\n",
       "        [[ 1.15742695e+05],\n",
       "         [ 7.19352969e+04],\n",
       "         [ 9.03556016e+04],\n",
       "         ...,\n",
       "         [ 8.05564062e+04],\n",
       "         [ 1.11977477e+05],\n",
       "         [ 9.36179297e+04]],\n",
       "\n",
       "        [[ 1.04151219e+05],\n",
       "         [ 5.64701797e+04],\n",
       "         [ 7.90999297e+04],\n",
       "         ...,\n",
       "         [ 6.61174062e+04],\n",
       "         [ 1.01524688e+05],\n",
       "         [ 8.10658906e+04]],\n",
       "\n",
       "        [[ 8.46602031e+04],\n",
       "         [ 3.27137363e+04],\n",
       "         [ 5.99253750e+04],\n",
       "         ...,\n",
       "         [ 4.34187383e+04],\n",
       "         [ 8.31944375e+04],\n",
       "         [ 6.05008320e+04]]],\n",
       "\n",
       "\n",
       "       [[[ 0.00000000e+00],\n",
       "         [ 0.00000000e+00],\n",
       "         [ 0.00000000e+00],\n",
       "         ...,\n",
       "         [ 0.00000000e+00],\n",
       "         [ 0.00000000e+00],\n",
       "         [ 0.00000000e+00]],\n",
       "\n",
       "        [[ 0.00000000e+00],\n",
       "         [ 0.00000000e+00],\n",
       "         [ 0.00000000e+00],\n",
       "         ...,\n",
       "         [ 0.00000000e+00],\n",
       "         [ 0.00000000e+00],\n",
       "         [ 0.00000000e+00]],\n",
       "\n",
       "        [[ 0.00000000e+00],\n",
       "         [ 0.00000000e+00],\n",
       "         [ 0.00000000e+00],\n",
       "         ...,\n",
       "         [ 0.00000000e+00],\n",
       "         [ 0.00000000e+00],\n",
       "         [ 0.00000000e+00]],\n",
       "\n",
       "        ...,\n",
       "\n",
       "        [[ 0.00000000e+00],\n",
       "         [ 0.00000000e+00],\n",
       "         [ 0.00000000e+00],\n",
       "         ...,\n",
       "         [ 0.00000000e+00],\n",
       "         [ 0.00000000e+00],\n",
       "         [ 0.00000000e+00]],\n",
       "\n",
       "        [[ 0.00000000e+00],\n",
       "         [ 0.00000000e+00],\n",
       "         [ 0.00000000e+00],\n",
       "         ...,\n",
       "         [ 0.00000000e+00],\n",
       "         [ 0.00000000e+00],\n",
       "         [ 0.00000000e+00]],\n",
       "\n",
       "        [[ 0.00000000e+00],\n",
       "         [ 0.00000000e+00],\n",
       "         [ 0.00000000e+00],\n",
       "         ...,\n",
       "         [ 0.00000000e+00],\n",
       "         [ 0.00000000e+00],\n",
       "         [ 0.00000000e+00]]]])>"
      ]
     },
     "execution_count": 11,
     "metadata": {},
     "output_type": "execute_result"
    }
   ],
   "source": [
    "tf.reshape(new_mat, shape = (200, 64, 1024, 1))"
   ]
  },
  {
   "cell_type": "code",
   "execution_count": 12,
   "id": "59139c70",
   "metadata": {},
   "outputs": [
    {
     "data": {
      "text/plain": [
       "array([0, 0, 0, 0, 0, 0, 0, 0, 0, 0, 0, 0, 0, 0, 0, 0, 0, 0, 0, 0, 0, 0,\n",
       "       0, 0, 0, 0, 0, 0, 0, 0, 0, 0, 0, 0, 0, 0, 0, 0, 0, 0, 0, 0, 0, 0,\n",
       "       0, 0, 0, 0, 0, 0, 0, 0, 0, 0, 0, 0, 0, 0, 0, 0, 0, 0, 0, 0, 0, 0,\n",
       "       0, 0, 0, 0, 0, 0, 0, 0, 0, 0, 0, 0, 0, 0, 0, 0, 0, 0, 0, 0, 0, 0,\n",
       "       0, 0, 0, 0, 0, 0, 0, 0, 0, 0, 0, 0, 1, 1, 1, 1, 1, 1, 1, 1, 1, 1,\n",
       "       1, 1, 1, 1, 1, 1, 1, 1, 1, 1, 1, 1, 1, 1, 1, 1, 1, 1, 1, 1, 1, 1,\n",
       "       1, 1, 1, 1, 1, 1, 1, 1, 1, 1, 1, 1, 1, 1, 1, 1, 1, 1, 1, 1, 1, 1,\n",
       "       1, 1, 1, 1, 1, 1, 1, 1, 1, 1, 1, 1, 1, 1, 1, 1, 1, 1, 1, 1, 1, 1,\n",
       "       1, 1, 1, 1, 1, 1, 1, 1, 1, 1, 1, 1, 1, 1, 1, 1, 1, 1, 1, 1, 1, 1,\n",
       "       1, 1], dtype=uint8)"
      ]
     },
     "execution_count": 12,
     "metadata": {},
     "output_type": "execute_result"
    }
   ],
   "source": [
    "np.array(mat['class_mi'])[0] - 1"
   ]
  },
  {
   "cell_type": "code",
   "execution_count": 13,
   "id": "e2732448",
   "metadata": {},
   "outputs": [],
   "source": [
    "x = tf.reshape(new_mat, shape = (200, 64, 1024, 1))\n",
    "y = tf.reshape(mat['class_mi'] , 200)"
   ]
  },
  {
   "cell_type": "code",
   "execution_count": 14,
   "id": "14e520ba",
   "metadata": {},
   "outputs": [
    {
     "data": {
      "text/plain": [
       "<tf.Tensor: shape=(200,), dtype=uint8, numpy=\n",
       "array([1, 1, 1, 1, 1, 1, 1, 1, 1, 1, 1, 1, 1, 1, 1, 1, 1, 1, 1, 1, 1, 1,\n",
       "       1, 1, 1, 1, 1, 1, 1, 1, 1, 1, 1, 1, 1, 1, 1, 1, 1, 1, 1, 1, 1, 1,\n",
       "       1, 1, 1, 1, 1, 1, 1, 1, 1, 1, 1, 1, 1, 1, 1, 1, 1, 1, 1, 1, 1, 1,\n",
       "       1, 1, 1, 1, 1, 1, 1, 1, 1, 1, 1, 1, 1, 1, 1, 1, 1, 1, 1, 1, 1, 1,\n",
       "       1, 1, 1, 1, 1, 1, 1, 1, 1, 1, 1, 1, 2, 2, 2, 2, 2, 2, 2, 2, 2, 2,\n",
       "       2, 2, 2, 2, 2, 2, 2, 2, 2, 2, 2, 2, 2, 2, 2, 2, 2, 2, 2, 2, 2, 2,\n",
       "       2, 2, 2, 2, 2, 2, 2, 2, 2, 2, 2, 2, 2, 2, 2, 2, 2, 2, 2, 2, 2, 2,\n",
       "       2, 2, 2, 2, 2, 2, 2, 2, 2, 2, 2, 2, 2, 2, 2, 2, 2, 2, 2, 2, 2, 2,\n",
       "       2, 2, 2, 2, 2, 2, 2, 2, 2, 2, 2, 2, 2, 2, 2, 2, 2, 2, 2, 2, 2, 2,\n",
       "       2, 2], dtype=uint8)>"
      ]
     },
     "execution_count": 14,
     "metadata": {},
     "output_type": "execute_result"
    }
   ],
   "source": [
    "y"
   ]
  },
  {
   "cell_type": "code",
   "execution_count": 15,
   "id": "2696a38e",
   "metadata": {},
   "outputs": [
    {
     "name": "stdout",
     "output_type": "stream",
     "text": [
      "7/7 [==============================] - 18s 2s/step - loss: 237893.3278\n"
     ]
    },
    {
     "data": {
      "text/plain": [
       "<tensorflow.python.keras.callbacks.History at 0x7fde7927e4c0>"
      ]
     },
     "execution_count": 15,
     "metadata": {},
     "output_type": "execute_result"
    }
   ],
   "source": [
    "model_cnn_basic.fit(x, y,verbose = 1)"
   ]
  },
  {
   "cell_type": "code",
   "execution_count": 16,
   "id": "7a82fe73",
   "metadata": {},
   "outputs": [
    {
     "data": {
      "text/plain": [
       "<tf.Tensor: shape=(200,), dtype=uint8, numpy=\n",
       "array([1, 1, 1, 1, 1, 1, 1, 1, 1, 1, 1, 1, 1, 1, 1, 1, 1, 1, 1, 1, 1, 1,\n",
       "       1, 1, 1, 1, 1, 1, 1, 1, 1, 1, 1, 1, 1, 1, 1, 1, 1, 1, 1, 1, 1, 1,\n",
       "       1, 1, 1, 1, 1, 1, 1, 1, 1, 1, 1, 1, 1, 1, 1, 1, 1, 1, 1, 1, 1, 1,\n",
       "       1, 1, 1, 1, 1, 1, 1, 1, 1, 1, 1, 1, 1, 1, 1, 1, 1, 1, 1, 1, 1, 1,\n",
       "       1, 1, 1, 1, 1, 1, 1, 1, 1, 1, 1, 1, 2, 2, 2, 2, 2, 2, 2, 2, 2, 2,\n",
       "       2, 2, 2, 2, 2, 2, 2, 2, 2, 2, 2, 2, 2, 2, 2, 2, 2, 2, 2, 2, 2, 2,\n",
       "       2, 2, 2, 2, 2, 2, 2, 2, 2, 2, 2, 2, 2, 2, 2, 2, 2, 2, 2, 2, 2, 2,\n",
       "       2, 2, 2, 2, 2, 2, 2, 2, 2, 2, 2, 2, 2, 2, 2, 2, 2, 2, 2, 2, 2, 2,\n",
       "       2, 2, 2, 2, 2, 2, 2, 2, 2, 2, 2, 2, 2, 2, 2, 2, 2, 2, 2, 2, 2, 2,\n",
       "       2, 2], dtype=uint8)>"
      ]
     },
     "execution_count": 16,
     "metadata": {},
     "output_type": "execute_result"
    }
   ],
   "source": [
    "tf.reshape(mat['class_mi'], 200)"
   ]
  },
  {
   "cell_type": "code",
   "execution_count": 17,
   "id": "798e62f5",
   "metadata": {},
   "outputs": [
    {
     "data": {
      "text/plain": [
       "(200, 1)"
      ]
     },
     "execution_count": 17,
     "metadata": {},
     "output_type": "execute_result"
    }
   ],
   "source": [
    "mat['class_mi'].transpose().shape"
   ]
  }
 ],
 "metadata": {
  "kernelspec": {
   "display_name": "Python 3",
   "language": "python",
   "name": "python3"
  },
  "language_info": {
   "codemirror_mode": {
    "name": "ipython",
    "version": 3
   },
   "file_extension": ".py",
   "mimetype": "text/x-python",
   "name": "python",
   "nbconvert_exporter": "python",
   "pygments_lexer": "ipython3",
   "version": "3.9.5"
  }
 },
 "nbformat": 4,
 "nbformat_minor": 5
}
