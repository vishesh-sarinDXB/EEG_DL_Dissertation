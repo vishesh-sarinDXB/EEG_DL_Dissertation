{
 "cells": [
  {
   "cell_type": "code",
   "execution_count": 1,
   "id": "63565b7b",
   "metadata": {},
   "outputs": [],
   "source": [
    "import scipy.io as sio\n",
    "import tensorflow as tf\n",
    "import numpy as np\n",
    "\n",
    "from tensorflow.keras import Model\n",
    "from tensorflow.keras.models import Sequential\n",
    "from tensorflow.keras.layers import (\n",
    "    Dense,\n",
    "    ConvLSTM2D,\n",
    "    GlobalMaxPooling2D,\n",
    "    MaxPooling2D,\n",
    "    Conv2D\n",
    "    )"
   ]
  },
  {
   "cell_type": "code",
   "execution_count": 2,
   "id": "847b28d7",
   "metadata": {},
   "outputs": [],
   "source": [
    "mat = sio.loadmat('../../data/processed/sevenThirty/s05.mat')\n",
    "mi = mat['mi']\n",
    "real = mat['real']\n",
    "class_mi = mat['class_mi']\n",
    "class_real = mat['class_real']"
   ]
  },
  {
   "cell_type": "code",
   "execution_count": 3,
   "id": "9eac9e14",
   "metadata": {},
   "outputs": [],
   "source": [
    "mi_reshape = np.empty([mi.shape[2], 64, 1024])\n",
    "\n",
    "mi_intermediate = np.empty([mi.shape[2], 4, 64, 256])\n",
    "\n",
    "for i in range(0, mi.shape[2]):\n",
    "    mi_reshape[i, :, :] = mi[:, :, i]\n",
    "    \n",
    "    for n in range(0, mi_intermediate.shape[1]):\n",
    "\n",
    "        startIDX = (256 * n)\n",
    "        endIDX = startIDX + 256\n",
    "        \n",
    "        mi_intermediate[i, n, :, :] = mi_reshape[i, :, startIDX:endIDX]\n",
    "    \n",
    "mi_tensor = tf.reshape(mi_intermediate, shape = (mi.shape[2], mi_intermediate.shape[1], 64, 256, 1))\n",
    "\n",
    "class_mi_tensor = tf.reshape(class_mi , mi.shape[2])\n",
    "\n",
    "class_mi_tensor = class_mi_tensor - 1"
   ]
  },
  {
   "cell_type": "code",
   "execution_count": 4,
   "id": "96b6240f",
   "metadata": {},
   "outputs": [],
   "source": [
    "real_reshape = np.empty([real.shape[2], 64, 1024])\n",
    "\n",
    "real_intermediate = np.empty([real.shape[2], 4, 64, 256])\n",
    "\n",
    "for i in range(0, real.shape[2]):\n",
    "    real_reshape[i, :, :] = real[:, :, i]\n",
    "    \n",
    "    for n in range(0, real_intermediate.shape[1]):\n",
    "\n",
    "        startIDX = (256 * n)\n",
    "        endIDX = startIDX + 256\n",
    "        \n",
    "        real_intermediate[i, n, :, :] = real_reshape[i, :, startIDX:endIDX]\n",
    "    \n",
    "real_tensor = tf.reshape(real_intermediate, shape = (real.shape[2], real_intermediate.shape[1], 64, 256, 1))\n",
    "\n",
    "class_real_tensor = tf.reshape(class_real , real.shape[2])\n",
    "\n",
    "class_real_tensor = class_real_tensor - 1"
   ]
  },
  {
   "cell_type": "code",
   "execution_count": 5,
   "id": "c9521035",
   "metadata": {},
   "outputs": [],
   "source": [
    "opt = tf.keras.optimizers.RMSprop(\n",
    "    lr=0.001)\n",
    "\n",
    "loss = tf.keras.losses.BinaryCrossentropy()"
   ]
  },
  {
   "cell_type": "code",
   "execution_count": 6,
   "id": "cfcf5585",
   "metadata": {},
   "outputs": [],
   "source": [
    "model = Sequential()\n",
    "model.add(ConvLSTM2D(\n",
    "    filters=64,\n",
    "    kernel_size=(4, 4),\n",
    "    padding='same',\n",
    "    data_format='channels_last',\n",
    "    return_sequences=False,\n",
    "    input_shape=(16, 64, 64, 1)\n",
    "    ))\n",
    "model.add(MaxPooling2D())\n",
    "model.add(Conv2D(\n",
    "    filters=64,\n",
    "    kernel_size=(3, 3),\n",
    "    padding='same',\n",
    "    data_format='channels_last',\n",
    "#     return_sequences=False,\n",
    "    input_shape=(16, 64, 64, 1)\n",
    "    ))\n",
    "# model.add(Dense(512, activation='relu'))\n",
    "model.add(Dense(256, activation='relu'))\n",
    "model.add(Dense(128, activation='relu'))\n",
    "model.add(Dense(64, activation='relu'))\n",
    "model.add(Dense(1, activation='sigmoid'))"
   ]
  },
  {
   "cell_type": "code",
   "execution_count": 7,
   "id": "ad38f738",
   "metadata": {},
   "outputs": [],
   "source": [
    "model.compile(\n",
    "    optimizer=opt,\n",
    "    loss=loss,\n",
    "    metrics=['accuracy'])"
   ]
  },
  {
   "cell_type": "code",
   "execution_count": 8,
   "id": "c06912a6",
   "metadata": {},
   "outputs": [
    {
     "name": "stdout",
     "output_type": "stream",
     "text": [
      "Model: \"sequential\"\n",
      "_________________________________________________________________\n",
      "Layer (type)                 Output Shape              Param #   \n",
      "=================================================================\n",
      "conv_lst_m2d (ConvLSTM2D)    (None, 64, 64, 64)        266496    \n",
      "_________________________________________________________________\n",
      "max_pooling2d (MaxPooling2D) (None, 32, 32, 64)        0         \n",
      "_________________________________________________________________\n",
      "conv2d (Conv2D)              (None, 32, 32, 64)        36928     \n",
      "_________________________________________________________________\n",
      "dense (Dense)                (None, 32, 32, 256)       16640     \n",
      "_________________________________________________________________\n",
      "dense_1 (Dense)              (None, 32, 32, 128)       32896     \n",
      "_________________________________________________________________\n",
      "dense_2 (Dense)              (None, 32, 32, 64)        8256      \n",
      "_________________________________________________________________\n",
      "dense_3 (Dense)              (None, 32, 32, 1)         65        \n",
      "=================================================================\n",
      "Total params: 361,281\n",
      "Trainable params: 361,281\n",
      "Non-trainable params: 0\n",
      "_________________________________________________________________\n"
     ]
    }
   ],
   "source": [
    "model.summary()"
   ]
  },
  {
   "cell_type": "code",
   "execution_count": 9,
   "id": "a3cfd825",
   "metadata": {
    "scrolled": false
   },
   "outputs": [],
   "source": [
    "# model.fit(\n",
    "#     x=mi_tensor,\n",
    "#     y=class_mi_tensor,\n",
    "#     batch_size=mi.shape[2],\n",
    "#     validation_data=(real_tensor, class_real_tensor),\n",
    "#     epochs=10,\n",
    "#     verbose=2)"
   ]
  },
  {
   "cell_type": "code",
   "execution_count": 10,
   "id": "934da537",
   "metadata": {},
   "outputs": [],
   "source": [
    "from sklearn.model_selection import KFold\n",
    "\n",
    "kfold = KFold(n_splits=10, shuffle=True)"
   ]
  },
  {
   "cell_type": "code",
   "execution_count": null,
   "id": "13b7d3b0",
   "metadata": {},
   "outputs": [],
   "source": []
  },
  {
   "cell_type": "code",
   "execution_count": null,
   "id": "37dd797e",
   "metadata": {},
   "outputs": [],
   "source": []
  },
  {
   "cell_type": "code",
   "execution_count": 11,
   "id": "300db801",
   "metadata": {},
   "outputs": [
    {
     "data": {
      "text/plain": [
       "TensorShape([200, 4, 64, 256, 1])"
      ]
     },
     "execution_count": 11,
     "metadata": {},
     "output_type": "execute_result"
    }
   ],
   "source": [
    "mi_tensor.shape"
   ]
  },
  {
   "cell_type": "code",
   "execution_count": 12,
   "id": "039099c7",
   "metadata": {},
   "outputs": [
    {
     "name": "stdout",
     "output_type": "stream",
     "text": [
      "Epoch 1/10\n",
      "1/1 - 26s - loss: 0.6935 - accuracy: 0.4944 - val_loss: 0.7254 - val_accuracy: 0.4500\n",
      "Epoch 2/10\n",
      "1/1 - 18s - loss: 0.7060 - accuracy: 0.5056 - val_loss: 0.6913 - val_accuracy: 0.5500\n",
      "Epoch 3/10\n",
      "1/1 - 19s - loss: 0.6932 - accuracy: 0.4944 - val_loss: 0.6968 - val_accuracy: 0.4500\n",
      "Epoch 4/10\n",
      "1/1 - 21s - loss: 0.6925 - accuracy: 0.5056 - val_loss: 0.6950 - val_accuracy: 0.3500\n",
      "Epoch 5/10\n",
      "1/1 - 21s - loss: 0.6917 - accuracy: 0.6056 - val_loss: 0.6940 - val_accuracy: 0.5500\n",
      "Epoch 6/10\n",
      "1/1 - 22s - loss: 0.6913 - accuracy: 0.4944 - val_loss: 0.6981 - val_accuracy: 0.4500\n",
      "Epoch 7/10\n",
      "1/1 - 22s - loss: 0.6907 - accuracy: 0.5056 - val_loss: 0.6944 - val_accuracy: 0.5500\n",
      "Epoch 8/10\n",
      "1/1 - 23s - loss: 0.6901 - accuracy: 0.4944 - val_loss: 0.6982 - val_accuracy: 0.4500\n",
      "Epoch 9/10\n",
      "1/1 - 23s - loss: 0.6890 - accuracy: 0.5167 - val_loss: 0.6951 - val_accuracy: 0.5500\n",
      "Epoch 10/10\n"
     ]
    },
    {
     "ename": "KeyboardInterrupt",
     "evalue": "",
     "output_type": "error",
     "traceback": [
      "\u001b[0;31m---------------------------------------------------------------------------\u001b[0m",
      "\u001b[0;31mKeyboardInterrupt\u001b[0m                         Traceback (most recent call last)",
      "\u001b[0;32m<ipython-input-12-9f5e4db07d98>\u001b[0m in \u001b[0;36m<module>\u001b[0;34m\u001b[0m\n\u001b[1;32m     22\u001b[0m     metrics=['accuracy'])\n\u001b[1;32m     23\u001b[0m \u001b[0;34m\u001b[0m\u001b[0m\n\u001b[0;32m---> 24\u001b[0;31m     model.fit(\n\u001b[0m\u001b[1;32m     25\u001b[0m     \u001b[0mx\u001b[0m\u001b[0;34m=\u001b[0m\u001b[0mtf\u001b[0m\u001b[0;34m.\u001b[0m\u001b[0mgather\u001b[0m\u001b[0;34m(\u001b[0m\u001b[0mmi_tensor\u001b[0m\u001b[0;34m,\u001b[0m \u001b[0mtrain\u001b[0m\u001b[0;34m)\u001b[0m\u001b[0;34m,\u001b[0m\u001b[0;34m\u001b[0m\u001b[0;34m\u001b[0m\u001b[0m\n\u001b[1;32m     26\u001b[0m     \u001b[0my\u001b[0m\u001b[0;34m=\u001b[0m\u001b[0mtf\u001b[0m\u001b[0;34m.\u001b[0m\u001b[0mgather\u001b[0m\u001b[0;34m(\u001b[0m\u001b[0mclass_mi_tensor\u001b[0m\u001b[0;34m,\u001b[0m \u001b[0mtrain\u001b[0m\u001b[0;34m)\u001b[0m\u001b[0;34m,\u001b[0m\u001b[0;34m\u001b[0m\u001b[0;34m\u001b[0m\u001b[0m\n",
      "\u001b[0;32m~/anaconda3/envs/tf/lib/python3.9/site-packages/tensorflow/python/keras/engine/training.py\u001b[0m in \u001b[0;36mfit\u001b[0;34m(self, x, y, batch_size, epochs, verbose, callbacks, validation_split, validation_data, shuffle, class_weight, sample_weight, initial_epoch, steps_per_epoch, validation_steps, validation_batch_size, validation_freq, max_queue_size, workers, use_multiprocessing)\u001b[0m\n\u001b[1;32m   1129\u001b[0m                 \u001b[0mmodel\u001b[0m\u001b[0;34m=\u001b[0m\u001b[0mself\u001b[0m\u001b[0;34m,\u001b[0m\u001b[0;34m\u001b[0m\u001b[0;34m\u001b[0m\u001b[0m\n\u001b[1;32m   1130\u001b[0m                 steps_per_execution=self._steps_per_execution)\n\u001b[0;32m-> 1131\u001b[0;31m           val_logs = self.evaluate(\n\u001b[0m\u001b[1;32m   1132\u001b[0m               \u001b[0mx\u001b[0m\u001b[0;34m=\u001b[0m\u001b[0mval_x\u001b[0m\u001b[0;34m,\u001b[0m\u001b[0;34m\u001b[0m\u001b[0;34m\u001b[0m\u001b[0m\n\u001b[1;32m   1133\u001b[0m               \u001b[0my\u001b[0m\u001b[0;34m=\u001b[0m\u001b[0mval_y\u001b[0m\u001b[0;34m,\u001b[0m\u001b[0;34m\u001b[0m\u001b[0;34m\u001b[0m\u001b[0m\n",
      "\u001b[0;32m~/anaconda3/envs/tf/lib/python3.9/site-packages/tensorflow/python/keras/engine/training.py\u001b[0m in \u001b[0;36mevaluate\u001b[0;34m(self, x, y, batch_size, verbose, sample_weight, steps, callbacks, max_queue_size, workers, use_multiprocessing, return_dict)\u001b[0m\n\u001b[1;32m   1387\u001b[0m             \u001b[0;32mwith\u001b[0m \u001b[0mtrace\u001b[0m\u001b[0;34m.\u001b[0m\u001b[0mTrace\u001b[0m\u001b[0;34m(\u001b[0m\u001b[0;34m'test'\u001b[0m\u001b[0;34m,\u001b[0m \u001b[0mstep_num\u001b[0m\u001b[0;34m=\u001b[0m\u001b[0mstep\u001b[0m\u001b[0;34m,\u001b[0m \u001b[0m_r\u001b[0m\u001b[0;34m=\u001b[0m\u001b[0;36m1\u001b[0m\u001b[0;34m)\u001b[0m\u001b[0;34m:\u001b[0m\u001b[0;34m\u001b[0m\u001b[0;34m\u001b[0m\u001b[0m\n\u001b[1;32m   1388\u001b[0m               \u001b[0mcallbacks\u001b[0m\u001b[0;34m.\u001b[0m\u001b[0mon_test_batch_begin\u001b[0m\u001b[0;34m(\u001b[0m\u001b[0mstep\u001b[0m\u001b[0;34m)\u001b[0m\u001b[0;34m\u001b[0m\u001b[0;34m\u001b[0m\u001b[0m\n\u001b[0;32m-> 1389\u001b[0;31m               \u001b[0mtmp_logs\u001b[0m \u001b[0;34m=\u001b[0m \u001b[0mself\u001b[0m\u001b[0;34m.\u001b[0m\u001b[0mtest_function\u001b[0m\u001b[0;34m(\u001b[0m\u001b[0miterator\u001b[0m\u001b[0;34m)\u001b[0m\u001b[0;34m\u001b[0m\u001b[0;34m\u001b[0m\u001b[0m\n\u001b[0m\u001b[1;32m   1390\u001b[0m               \u001b[0;32mif\u001b[0m \u001b[0mdata_handler\u001b[0m\u001b[0;34m.\u001b[0m\u001b[0mshould_sync\u001b[0m\u001b[0;34m:\u001b[0m\u001b[0;34m\u001b[0m\u001b[0;34m\u001b[0m\u001b[0m\n\u001b[1;32m   1391\u001b[0m                 \u001b[0mcontext\u001b[0m\u001b[0;34m.\u001b[0m\u001b[0masync_wait\u001b[0m\u001b[0;34m(\u001b[0m\u001b[0;34m)\u001b[0m\u001b[0;34m\u001b[0m\u001b[0;34m\u001b[0m\u001b[0m\n",
      "\u001b[0;32m~/anaconda3/envs/tf/lib/python3.9/site-packages/tensorflow/python/eager/def_function.py\u001b[0m in \u001b[0;36m__call__\u001b[0;34m(self, *args, **kwds)\u001b[0m\n\u001b[1;32m    826\u001b[0m     \u001b[0mtracing_count\u001b[0m \u001b[0;34m=\u001b[0m \u001b[0mself\u001b[0m\u001b[0;34m.\u001b[0m\u001b[0mexperimental_get_tracing_count\u001b[0m\u001b[0;34m(\u001b[0m\u001b[0;34m)\u001b[0m\u001b[0;34m\u001b[0m\u001b[0;34m\u001b[0m\u001b[0m\n\u001b[1;32m    827\u001b[0m     \u001b[0;32mwith\u001b[0m \u001b[0mtrace\u001b[0m\u001b[0;34m.\u001b[0m\u001b[0mTrace\u001b[0m\u001b[0;34m(\u001b[0m\u001b[0mself\u001b[0m\u001b[0;34m.\u001b[0m\u001b[0m_name\u001b[0m\u001b[0;34m)\u001b[0m \u001b[0;32mas\u001b[0m \u001b[0mtm\u001b[0m\u001b[0;34m:\u001b[0m\u001b[0;34m\u001b[0m\u001b[0;34m\u001b[0m\u001b[0m\n\u001b[0;32m--> 828\u001b[0;31m       \u001b[0mresult\u001b[0m \u001b[0;34m=\u001b[0m \u001b[0mself\u001b[0m\u001b[0;34m.\u001b[0m\u001b[0m_call\u001b[0m\u001b[0;34m(\u001b[0m\u001b[0;34m*\u001b[0m\u001b[0margs\u001b[0m\u001b[0;34m,\u001b[0m \u001b[0;34m**\u001b[0m\u001b[0mkwds\u001b[0m\u001b[0;34m)\u001b[0m\u001b[0;34m\u001b[0m\u001b[0;34m\u001b[0m\u001b[0m\n\u001b[0m\u001b[1;32m    829\u001b[0m       \u001b[0mcompiler\u001b[0m \u001b[0;34m=\u001b[0m \u001b[0;34m\"xla\"\u001b[0m \u001b[0;32mif\u001b[0m \u001b[0mself\u001b[0m\u001b[0;34m.\u001b[0m\u001b[0m_experimental_compile\u001b[0m \u001b[0;32melse\u001b[0m \u001b[0;34m\"nonXla\"\u001b[0m\u001b[0;34m\u001b[0m\u001b[0;34m\u001b[0m\u001b[0m\n\u001b[1;32m    830\u001b[0m       \u001b[0mnew_tracing_count\u001b[0m \u001b[0;34m=\u001b[0m \u001b[0mself\u001b[0m\u001b[0;34m.\u001b[0m\u001b[0mexperimental_get_tracing_count\u001b[0m\u001b[0;34m(\u001b[0m\u001b[0;34m)\u001b[0m\u001b[0;34m\u001b[0m\u001b[0;34m\u001b[0m\u001b[0m\n",
      "\u001b[0;32m~/anaconda3/envs/tf/lib/python3.9/site-packages/tensorflow/python/eager/def_function.py\u001b[0m in \u001b[0;36m_call\u001b[0;34m(self, *args, **kwds)\u001b[0m\n\u001b[1;32m    860\u001b[0m       \u001b[0;31m# In this case we have not created variables on the first call. So we can\u001b[0m\u001b[0;34m\u001b[0m\u001b[0;34m\u001b[0m\u001b[0;34m\u001b[0m\u001b[0m\n\u001b[1;32m    861\u001b[0m       \u001b[0;31m# run the first trace but we should fail if variables are created.\u001b[0m\u001b[0;34m\u001b[0m\u001b[0;34m\u001b[0m\u001b[0;34m\u001b[0m\u001b[0m\n\u001b[0;32m--> 862\u001b[0;31m       \u001b[0mresults\u001b[0m \u001b[0;34m=\u001b[0m \u001b[0mself\u001b[0m\u001b[0;34m.\u001b[0m\u001b[0m_stateful_fn\u001b[0m\u001b[0;34m(\u001b[0m\u001b[0;34m*\u001b[0m\u001b[0margs\u001b[0m\u001b[0;34m,\u001b[0m \u001b[0;34m**\u001b[0m\u001b[0mkwds\u001b[0m\u001b[0;34m)\u001b[0m\u001b[0;34m\u001b[0m\u001b[0;34m\u001b[0m\u001b[0m\n\u001b[0m\u001b[1;32m    863\u001b[0m       \u001b[0;32mif\u001b[0m \u001b[0mself\u001b[0m\u001b[0;34m.\u001b[0m\u001b[0m_created_variables\u001b[0m\u001b[0;34m:\u001b[0m\u001b[0;34m\u001b[0m\u001b[0;34m\u001b[0m\u001b[0m\n\u001b[1;32m    864\u001b[0m         raise ValueError(\"Creating variables on a non-first call to a function\"\n",
      "\u001b[0;32m~/anaconda3/envs/tf/lib/python3.9/site-packages/tensorflow/python/eager/function.py\u001b[0m in \u001b[0;36m__call__\u001b[0;34m(self, *args, **kwargs)\u001b[0m\n\u001b[1;32m   2940\u001b[0m       (graph_function,\n\u001b[1;32m   2941\u001b[0m        filtered_flat_args) = self._maybe_define_function(args, kwargs)\n\u001b[0;32m-> 2942\u001b[0;31m     return graph_function._call_flat(\n\u001b[0m\u001b[1;32m   2943\u001b[0m         filtered_flat_args, captured_inputs=graph_function.captured_inputs)  # pylint: disable=protected-access\n\u001b[1;32m   2944\u001b[0m \u001b[0;34m\u001b[0m\u001b[0m\n",
      "\u001b[0;32m~/anaconda3/envs/tf/lib/python3.9/site-packages/tensorflow/python/eager/function.py\u001b[0m in \u001b[0;36m_call_flat\u001b[0;34m(self, args, captured_inputs, cancellation_manager)\u001b[0m\n\u001b[1;32m   1916\u001b[0m         and executing_eagerly):\n\u001b[1;32m   1917\u001b[0m       \u001b[0;31m# No tape is watching; skip to running the function.\u001b[0m\u001b[0;34m\u001b[0m\u001b[0;34m\u001b[0m\u001b[0;34m\u001b[0m\u001b[0m\n\u001b[0;32m-> 1918\u001b[0;31m       return self._build_call_outputs(self._inference_function.call(\n\u001b[0m\u001b[1;32m   1919\u001b[0m           ctx, args, cancellation_manager=cancellation_manager))\n\u001b[1;32m   1920\u001b[0m     forward_backward = self._select_forward_and_backward_functions(\n",
      "\u001b[0;32m~/anaconda3/envs/tf/lib/python3.9/site-packages/tensorflow/python/eager/function.py\u001b[0m in \u001b[0;36mcall\u001b[0;34m(self, ctx, args, cancellation_manager)\u001b[0m\n\u001b[1;32m    553\u001b[0m       \u001b[0;32mwith\u001b[0m \u001b[0m_InterpolateFunctionError\u001b[0m\u001b[0;34m(\u001b[0m\u001b[0mself\u001b[0m\u001b[0;34m)\u001b[0m\u001b[0;34m:\u001b[0m\u001b[0;34m\u001b[0m\u001b[0;34m\u001b[0m\u001b[0m\n\u001b[1;32m    554\u001b[0m         \u001b[0;32mif\u001b[0m \u001b[0mcancellation_manager\u001b[0m \u001b[0;32mis\u001b[0m \u001b[0;32mNone\u001b[0m\u001b[0;34m:\u001b[0m\u001b[0;34m\u001b[0m\u001b[0;34m\u001b[0m\u001b[0m\n\u001b[0;32m--> 555\u001b[0;31m           outputs = execute.execute(\n\u001b[0m\u001b[1;32m    556\u001b[0m               \u001b[0mstr\u001b[0m\u001b[0;34m(\u001b[0m\u001b[0mself\u001b[0m\u001b[0;34m.\u001b[0m\u001b[0msignature\u001b[0m\u001b[0;34m.\u001b[0m\u001b[0mname\u001b[0m\u001b[0;34m)\u001b[0m\u001b[0;34m,\u001b[0m\u001b[0;34m\u001b[0m\u001b[0;34m\u001b[0m\u001b[0m\n\u001b[1;32m    557\u001b[0m               \u001b[0mnum_outputs\u001b[0m\u001b[0;34m=\u001b[0m\u001b[0mself\u001b[0m\u001b[0;34m.\u001b[0m\u001b[0m_num_outputs\u001b[0m\u001b[0;34m,\u001b[0m\u001b[0;34m\u001b[0m\u001b[0;34m\u001b[0m\u001b[0m\n",
      "\u001b[0;32m~/anaconda3/envs/tf/lib/python3.9/site-packages/tensorflow/python/eager/execute.py\u001b[0m in \u001b[0;36mquick_execute\u001b[0;34m(op_name, num_outputs, inputs, attrs, ctx, name)\u001b[0m\n\u001b[1;32m     57\u001b[0m   \u001b[0;32mtry\u001b[0m\u001b[0;34m:\u001b[0m\u001b[0;34m\u001b[0m\u001b[0;34m\u001b[0m\u001b[0m\n\u001b[1;32m     58\u001b[0m     \u001b[0mctx\u001b[0m\u001b[0;34m.\u001b[0m\u001b[0mensure_initialized\u001b[0m\u001b[0;34m(\u001b[0m\u001b[0;34m)\u001b[0m\u001b[0;34m\u001b[0m\u001b[0;34m\u001b[0m\u001b[0m\n\u001b[0;32m---> 59\u001b[0;31m     tensors = pywrap_tfe.TFE_Py_Execute(ctx._handle, device_name, op_name,\n\u001b[0m\u001b[1;32m     60\u001b[0m                                         inputs, attrs, num_outputs)\n\u001b[1;32m     61\u001b[0m   \u001b[0;32mexcept\u001b[0m \u001b[0mcore\u001b[0m\u001b[0;34m.\u001b[0m\u001b[0m_NotOkStatusException\u001b[0m \u001b[0;32mas\u001b[0m \u001b[0me\u001b[0m\u001b[0;34m:\u001b[0m\u001b[0;34m\u001b[0m\u001b[0;34m\u001b[0m\u001b[0m\n",
      "\u001b[0;31mKeyboardInterrupt\u001b[0m: "
     ]
    }
   ],
   "source": [
    "for train, test in kfold.split(mi_tensor, class_mi_tensor):\n",
    "    \n",
    "    model = Sequential()\n",
    "    model.add(ConvLSTM2D(\n",
    "        filters=4,\n",
    "        kernel_size=(4, 4),\n",
    "    #     padding='same',\n",
    "    #     data_format='channels_last',\n",
    "    #     return_sequences=False,\n",
    "    #     input_shape=(64, 1024, 1)\n",
    "        ))\n",
    "    model.add(GlobalMaxPooling2D())\n",
    "    # model.add(Dense(512, activation='relu'))\n",
    "    model.add(Dense(256, activation='relu'))\n",
    "    model.add(Dense(128, activation='relu'))\n",
    "    model.add(Dense(64, activation='relu'))\n",
    "    model.add(Dense(1, activation='sigmoid'))\n",
    "    \n",
    "    model.compile(\n",
    "    optimizer=opt,\n",
    "    loss=loss,\n",
    "    metrics=['accuracy'])\n",
    "    \n",
    "    model.fit(\n",
    "    x=tf.gather(mi_tensor, train),\n",
    "    y=tf.gather(class_mi_tensor, train),\n",
    "    batch_size=180,\n",
    "    validation_data=(tf.gather(mi_tensor, test), tf.gather(class_mi_tensor, test)),\n",
    "    epochs=10,\n",
    "    verbose=2)\n",
    "#     print(train.shape)\n",
    "#     print(test.shape)\n",
    "# #     print(class_mi_tensor[])\n",
    "#     print(tf.gather(mi_tensor, test).shape)"
   ]
  },
  {
   "cell_type": "code",
   "execution_count": null,
   "id": "7dd4a99c",
   "metadata": {},
   "outputs": [],
   "source": [
    "\n"
   ]
  },
  {
   "cell_type": "code",
   "execution_count": 15,
   "id": "28c28469",
   "metadata": {},
   "outputs": [],
   "source": [
    "model_cnn_basic = tf.keras.models.Sequential([\n",
    "  tf.keras.layers.Conv2D(128, (4,4), activation='relu', input_shape=(64, 1024, 1)),\n",
    "  tf.keras.layers.MaxPooling2D(3, 3),\n",
    "  tf.keras.layers.Conv2D(128, (4,4), activation='relu'),\n",
    "  tf.keras.layers.MaxPooling2D(3,3),\n",
    "  tf.keras.layers.Flatten(),\n",
    "  tf.keras.layers.Dense(512, activation='relu'),\n",
    "  tf.keras.layers.Dense(128, activation='relu'),\n",
    "  tf.keras.layers.Dense(10, activation='softmax')\n",
    "])"
   ]
  },
  {
   "cell_type": "code",
   "execution_count": 16,
   "id": "51b4c5d6",
   "metadata": {},
   "outputs": [
    {
     "name": "stdout",
     "output_type": "stream",
     "text": [
      "Model: \"sequential_4\"\n",
      "_________________________________________________________________\n",
      "Layer (type)                 Output Shape              Param #   \n",
      "=================================================================\n",
      "conv2d (Conv2D)              (None, 61, 1021, 128)     2176      \n",
      "_________________________________________________________________\n",
      "max_pooling2d (MaxPooling2D) (None, 20, 340, 128)      0         \n",
      "_________________________________________________________________\n",
      "conv2d_1 (Conv2D)            (None, 17, 337, 128)      262272    \n",
      "_________________________________________________________________\n",
      "max_pooling2d_1 (MaxPooling2 (None, 5, 112, 128)       0         \n",
      "_________________________________________________________________\n",
      "flatten (Flatten)            (None, 71680)             0         \n",
      "_________________________________________________________________\n",
      "dense_8 (Dense)              (None, 512)               36700672  \n",
      "_________________________________________________________________\n",
      "dense_9 (Dense)              (None, 128)               65664     \n",
      "_________________________________________________________________\n",
      "dense_10 (Dense)             (None, 10)                1290      \n",
      "=================================================================\n",
      "Total params: 37,032,074\n",
      "Trainable params: 37,032,074\n",
      "Non-trainable params: 0\n",
      "_________________________________________________________________\n"
     ]
    }
   ],
   "source": [
    "model_cnn_basic.summary()"
   ]
  },
  {
   "cell_type": "code",
   "execution_count": 10,
   "id": "e547a2a2",
   "metadata": {},
   "outputs": [],
   "source": [
    "model_cnn_basic.compile(loss = tf.keras.losses.SparseCategoricalCrossentropy(from_logits=True))"
   ]
  },
  {
   "cell_type": "code",
   "execution_count": 11,
   "id": "4cd51cf5",
   "metadata": {
    "collapsed": true
   },
   "outputs": [
    {
     "data": {
      "text/plain": [
       "<tf.Tensor: shape=(200, 64, 1024, 1), dtype=float64, numpy=\n",
       "array([[[[-9.09148312e+00],\n",
       "         [-9.18334103e+00],\n",
       "         [-9.13973331e+00],\n",
       "         ...,\n",
       "         [-8.90516663e+00],\n",
       "         [-8.84207630e+00],\n",
       "         [-8.71076107e+00]],\n",
       "\n",
       "        [[-1.06371918e+02],\n",
       "         [-1.07051544e+02],\n",
       "         [-1.06715981e+02],\n",
       "         ...,\n",
       "         [-1.05157043e+02],\n",
       "         [-1.04579742e+02],\n",
       "         [-1.03482391e+02]],\n",
       "\n",
       "        [[-5.67636108e+02],\n",
       "         [-5.70092834e+02],\n",
       "         [-5.68882690e+02],\n",
       "         ...,\n",
       "         [-5.63805115e+02],\n",
       "         [-5.61303833e+02],\n",
       "         [-5.56863708e+02]],\n",
       "\n",
       "        ...,\n",
       "\n",
       "        [[ 4.56447852e+04],\n",
       "         [ 8.72393359e+04],\n",
       "         [ 4.82432930e+04],\n",
       "         ...,\n",
       "         [ 1.31842148e+04],\n",
       "         [ 6.85449688e+04],\n",
       "         [-1.93912305e+04]],\n",
       "\n",
       "        [[ 3.85506484e+04],\n",
       "         [ 8.26777812e+04],\n",
       "         [ 4.24533789e+04],\n",
       "         ...,\n",
       "         [ 4.46134180e+03],\n",
       "         [ 6.29898047e+04],\n",
       "         [-2.59011992e+04]],\n",
       "\n",
       "        [[ 2.68374883e+04],\n",
       "         [ 7.36024688e+04],\n",
       "         [ 3.20350527e+04],\n",
       "         ...,\n",
       "         [-9.25934961e+03],\n",
       "         [ 5.27399844e+04],\n",
       "         [-3.72271250e+04]]],\n",
       "\n",
       "\n",
       "       [[[-9.40419197e+00],\n",
       "         [-9.37289333e+00],\n",
       "         [-9.36937618e+00],\n",
       "         ...,\n",
       "         [-9.01777267e+00],\n",
       "         [-8.99020100e+00],\n",
       "         [-8.99399948e+00]],\n",
       "\n",
       "        [[-1.09380157e+02],\n",
       "         [-1.09097771e+02],\n",
       "         [-1.09097099e+02],\n",
       "         ...,\n",
       "         [-1.06468819e+02],\n",
       "         [-1.06233681e+02],\n",
       "         [-1.06269409e+02]],\n",
       "\n",
       "        [[-5.80737366e+02],\n",
       "         [-5.79474426e+02],\n",
       "         [-5.79555115e+02],\n",
       "         ...,\n",
       "         [-5.69900330e+02],\n",
       "         [-5.68906494e+02],\n",
       "         [-5.69106140e+02]],\n",
       "\n",
       "        ...,\n",
       "\n",
       "        [[ 9.24861016e+04],\n",
       "         [ 3.65615234e+04],\n",
       "         [ 3.34908984e+04],\n",
       "         ...,\n",
       "         [ 5.11237852e+04],\n",
       "         [-2.54520254e+04],\n",
       "         [-3.06800854e+03]],\n",
       "\n",
       "        [[ 8.26651172e+04],\n",
       "         [ 2.91221680e+04],\n",
       "         [ 2.73139141e+04],\n",
       "         ...,\n",
       "         [ 4.34300781e+04],\n",
       "         [-3.38148750e+04],\n",
       "         [-1.02551924e+04]],\n",
       "\n",
       "        [[ 6.85059688e+04],\n",
       "         [ 1.71542793e+04],\n",
       "         [ 1.63225361e+04],\n",
       "         ...,\n",
       "         [ 3.10389141e+04],\n",
       "         [-4.71248516e+04],\n",
       "         [-2.22662715e+04]]],\n",
       "\n",
       "\n",
       "       [[[-7.80414438e+00],\n",
       "         [-7.76236534e+00],\n",
       "         [-7.76503801e+00],\n",
       "         ...,\n",
       "         [-9.70184898e+00],\n",
       "         [-9.76557255e+00],\n",
       "         [-9.74623013e+00]],\n",
       "\n",
       "        [[-9.67053223e+01],\n",
       "         [-9.63640594e+01],\n",
       "         [-9.64130554e+01],\n",
       "         ...,\n",
       "         [-1.11599121e+02],\n",
       "         [-1.12036407e+02],\n",
       "         [-1.11853554e+02]],\n",
       "\n",
       "        [[-5.31512573e+02],\n",
       "         [-5.30161255e+02],\n",
       "         [-5.30422363e+02],\n",
       "         ...,\n",
       "         [-5.88737122e+02],\n",
       "         [-5.90168701e+02],\n",
       "         [-5.89382874e+02]],\n",
       "\n",
       "        ...,\n",
       "\n",
       "        [[-3.01932788e+03],\n",
       "         [ 3.10341777e+04],\n",
       "         [ 1.03237568e+04],\n",
       "         ...,\n",
       "         [ 7.20663125e+04],\n",
       "         [ 5.01039297e+04],\n",
       "         [ 7.44976172e+04]],\n",
       "\n",
       "        [[-1.07025439e+04],\n",
       "         [ 2.34442090e+04],\n",
       "         [ 1.22840332e+03],\n",
       "         ...,\n",
       "         [ 6.59158359e+04],\n",
       "         [ 4.37809297e+04],\n",
       "         [ 7.11812422e+04]],\n",
       "\n",
       "        [[-2.31050215e+04],\n",
       "         [ 1.07264355e+04],\n",
       "         [-1.25340137e+04],\n",
       "         ...,\n",
       "         [ 5.49565352e+04],\n",
       "         [ 3.25662461e+04],\n",
       "         [ 6.31501992e+04]]],\n",
       "\n",
       "\n",
       "       ...,\n",
       "\n",
       "\n",
       "       [[[-1.22377024e+01],\n",
       "         [-1.21566763e+01],\n",
       "         [-1.21480961e+01],\n",
       "         ...,\n",
       "         [-1.19227428e+01],\n",
       "         [-1.19458828e+01],\n",
       "         [-1.19335041e+01]],\n",
       "\n",
       "        [[-1.30894623e+02],\n",
       "         [-1.30280396e+02],\n",
       "         [-1.30230453e+02],\n",
       "         ...,\n",
       "         [-1.28605072e+02],\n",
       "         [-1.28747070e+02],\n",
       "         [-1.28623001e+02]],\n",
       "\n",
       "        [[-6.70011292e+02],\n",
       "         [-6.67732849e+02],\n",
       "         [-6.67595459e+02],\n",
       "         ...,\n",
       "         [-6.61857361e+02],\n",
       "         [-6.62258118e+02],\n",
       "         [-6.61647156e+02]],\n",
       "\n",
       "        ...,\n",
       "\n",
       "        [[ 6.88818359e+04],\n",
       "         [ 9.47632734e+04],\n",
       "         [ 1.15461508e+05],\n",
       "         ...,\n",
       "         [ 9.64102500e+04],\n",
       "         [ 1.01309562e+05],\n",
       "         [ 9.64329688e+04]],\n",
       "\n",
       "        [[ 5.43673203e+04],\n",
       "         [ 8.08198516e+04],\n",
       "         [ 1.02939391e+05],\n",
       "         ...,\n",
       "         [ 8.43572656e+04],\n",
       "         [ 8.86414844e+04],\n",
       "         [ 8.43585469e+04]],\n",
       "\n",
       "        [[ 3.17103730e+04],\n",
       "         [ 5.86986328e+04],\n",
       "         [ 8.25656953e+04],\n",
       "         ...,\n",
       "         [ 6.42265391e+04],\n",
       "         [ 6.77937891e+04],\n",
       "         [ 6.43658594e+04]]],\n",
       "\n",
       "\n",
       "       [[[-1.22216663e+01],\n",
       "         [-1.21822786e+01],\n",
       "         [-1.21736269e+01],\n",
       "         ...,\n",
       "         [-1.20290890e+01],\n",
       "         [-1.20530033e+01],\n",
       "         [-1.20475874e+01]],\n",
       "\n",
       "        [[-1.30826828e+02],\n",
       "         [-1.30524033e+02],\n",
       "         [-1.30407410e+02],\n",
       "         ...,\n",
       "         [-1.29317657e+02],\n",
       "         [-1.29482697e+02],\n",
       "         [-1.29449890e+02]],\n",
       "\n",
       "        [[-6.69897339e+02],\n",
       "         [-6.68742798e+02],\n",
       "         [-6.68125000e+02],\n",
       "         ...,\n",
       "         [-6.64079468e+02],\n",
       "         [-6.64569702e+02],\n",
       "         [-6.64462952e+02]],\n",
       "\n",
       "        ...,\n",
       "\n",
       "        [[ 1.15742695e+05],\n",
       "         [ 7.19352969e+04],\n",
       "         [ 9.03556016e+04],\n",
       "         ...,\n",
       "         [ 8.05564062e+04],\n",
       "         [ 1.11977477e+05],\n",
       "         [ 9.36179297e+04]],\n",
       "\n",
       "        [[ 1.04151219e+05],\n",
       "         [ 5.64701797e+04],\n",
       "         [ 7.90999297e+04],\n",
       "         ...,\n",
       "         [ 6.61174062e+04],\n",
       "         [ 1.01524688e+05],\n",
       "         [ 8.10658906e+04]],\n",
       "\n",
       "        [[ 8.46602031e+04],\n",
       "         [ 3.27137363e+04],\n",
       "         [ 5.99253750e+04],\n",
       "         ...,\n",
       "         [ 4.34187383e+04],\n",
       "         [ 8.31944375e+04],\n",
       "         [ 6.05008320e+04]]],\n",
       "\n",
       "\n",
       "       [[[ 0.00000000e+00],\n",
       "         [ 0.00000000e+00],\n",
       "         [ 0.00000000e+00],\n",
       "         ...,\n",
       "         [ 0.00000000e+00],\n",
       "         [ 0.00000000e+00],\n",
       "         [ 0.00000000e+00]],\n",
       "\n",
       "        [[ 0.00000000e+00],\n",
       "         [ 0.00000000e+00],\n",
       "         [ 0.00000000e+00],\n",
       "         ...,\n",
       "         [ 0.00000000e+00],\n",
       "         [ 0.00000000e+00],\n",
       "         [ 0.00000000e+00]],\n",
       "\n",
       "        [[ 0.00000000e+00],\n",
       "         [ 0.00000000e+00],\n",
       "         [ 0.00000000e+00],\n",
       "         ...,\n",
       "         [ 0.00000000e+00],\n",
       "         [ 0.00000000e+00],\n",
       "         [ 0.00000000e+00]],\n",
       "\n",
       "        ...,\n",
       "\n",
       "        [[ 0.00000000e+00],\n",
       "         [ 0.00000000e+00],\n",
       "         [ 0.00000000e+00],\n",
       "         ...,\n",
       "         [ 0.00000000e+00],\n",
       "         [ 0.00000000e+00],\n",
       "         [ 0.00000000e+00]],\n",
       "\n",
       "        [[ 0.00000000e+00],\n",
       "         [ 0.00000000e+00],\n",
       "         [ 0.00000000e+00],\n",
       "         ...,\n",
       "         [ 0.00000000e+00],\n",
       "         [ 0.00000000e+00],\n",
       "         [ 0.00000000e+00]],\n",
       "\n",
       "        [[ 0.00000000e+00],\n",
       "         [ 0.00000000e+00],\n",
       "         [ 0.00000000e+00],\n",
       "         ...,\n",
       "         [ 0.00000000e+00],\n",
       "         [ 0.00000000e+00],\n",
       "         [ 0.00000000e+00]]]])>"
      ]
     },
     "execution_count": 11,
     "metadata": {},
     "output_type": "execute_result"
    }
   ],
   "source": [
    "tf.reshape(new_mat, shape = (200, 64, 1024, 1))"
   ]
  },
  {
   "cell_type": "code",
   "execution_count": 12,
   "id": "59139c70",
   "metadata": {},
   "outputs": [
    {
     "data": {
      "text/plain": [
       "array([0, 0, 0, 0, 0, 0, 0, 0, 0, 0, 0, 0, 0, 0, 0, 0, 0, 0, 0, 0, 0, 0,\n",
       "       0, 0, 0, 0, 0, 0, 0, 0, 0, 0, 0, 0, 0, 0, 0, 0, 0, 0, 0, 0, 0, 0,\n",
       "       0, 0, 0, 0, 0, 0, 0, 0, 0, 0, 0, 0, 0, 0, 0, 0, 0, 0, 0, 0, 0, 0,\n",
       "       0, 0, 0, 0, 0, 0, 0, 0, 0, 0, 0, 0, 0, 0, 0, 0, 0, 0, 0, 0, 0, 0,\n",
       "       0, 0, 0, 0, 0, 0, 0, 0, 0, 0, 0, 0, 1, 1, 1, 1, 1, 1, 1, 1, 1, 1,\n",
       "       1, 1, 1, 1, 1, 1, 1, 1, 1, 1, 1, 1, 1, 1, 1, 1, 1, 1, 1, 1, 1, 1,\n",
       "       1, 1, 1, 1, 1, 1, 1, 1, 1, 1, 1, 1, 1, 1, 1, 1, 1, 1, 1, 1, 1, 1,\n",
       "       1, 1, 1, 1, 1, 1, 1, 1, 1, 1, 1, 1, 1, 1, 1, 1, 1, 1, 1, 1, 1, 1,\n",
       "       1, 1, 1, 1, 1, 1, 1, 1, 1, 1, 1, 1, 1, 1, 1, 1, 1, 1, 1, 1, 1, 1,\n",
       "       1, 1], dtype=uint8)"
      ]
     },
     "execution_count": 12,
     "metadata": {},
     "output_type": "execute_result"
    }
   ],
   "source": [
    "np.array(mat['class_mi'])[0] - 1"
   ]
  },
  {
   "cell_type": "code",
   "execution_count": 13,
   "id": "e2732448",
   "metadata": {},
   "outputs": [],
   "source": [
    "x = tf.reshape(new_mat, shape = (200, 64, 1024, 1))\n",
    "y = tf.reshape(mat['class_mi'] , 200)"
   ]
  },
  {
   "cell_type": "code",
   "execution_count": 14,
   "id": "14e520ba",
   "metadata": {},
   "outputs": [
    {
     "data": {
      "text/plain": [
       "<tf.Tensor: shape=(200,), dtype=uint8, numpy=\n",
       "array([1, 1, 1, 1, 1, 1, 1, 1, 1, 1, 1, 1, 1, 1, 1, 1, 1, 1, 1, 1, 1, 1,\n",
       "       1, 1, 1, 1, 1, 1, 1, 1, 1, 1, 1, 1, 1, 1, 1, 1, 1, 1, 1, 1, 1, 1,\n",
       "       1, 1, 1, 1, 1, 1, 1, 1, 1, 1, 1, 1, 1, 1, 1, 1, 1, 1, 1, 1, 1, 1,\n",
       "       1, 1, 1, 1, 1, 1, 1, 1, 1, 1, 1, 1, 1, 1, 1, 1, 1, 1, 1, 1, 1, 1,\n",
       "       1, 1, 1, 1, 1, 1, 1, 1, 1, 1, 1, 1, 2, 2, 2, 2, 2, 2, 2, 2, 2, 2,\n",
       "       2, 2, 2, 2, 2, 2, 2, 2, 2, 2, 2, 2, 2, 2, 2, 2, 2, 2, 2, 2, 2, 2,\n",
       "       2, 2, 2, 2, 2, 2, 2, 2, 2, 2, 2, 2, 2, 2, 2, 2, 2, 2, 2, 2, 2, 2,\n",
       "       2, 2, 2, 2, 2, 2, 2, 2, 2, 2, 2, 2, 2, 2, 2, 2, 2, 2, 2, 2, 2, 2,\n",
       "       2, 2, 2, 2, 2, 2, 2, 2, 2, 2, 2, 2, 2, 2, 2, 2, 2, 2, 2, 2, 2, 2,\n",
       "       2, 2], dtype=uint8)>"
      ]
     },
     "execution_count": 14,
     "metadata": {},
     "output_type": "execute_result"
    }
   ],
   "source": [
    "y"
   ]
  },
  {
   "cell_type": "code",
   "execution_count": 15,
   "id": "2696a38e",
   "metadata": {},
   "outputs": [
    {
     "name": "stdout",
     "output_type": "stream",
     "text": [
      "7/7 [==============================] - 18s 2s/step - loss: 237893.3278\n"
     ]
    },
    {
     "data": {
      "text/plain": [
       "<tensorflow.python.keras.callbacks.History at 0x7fde7927e4c0>"
      ]
     },
     "execution_count": 15,
     "metadata": {},
     "output_type": "execute_result"
    }
   ],
   "source": [
    "model_cnn_basic.fit(x, y,verbose = 1)"
   ]
  },
  {
   "cell_type": "code",
   "execution_count": 16,
   "id": "7a82fe73",
   "metadata": {},
   "outputs": [
    {
     "data": {
      "text/plain": [
       "<tf.Tensor: shape=(200,), dtype=uint8, numpy=\n",
       "array([1, 1, 1, 1, 1, 1, 1, 1, 1, 1, 1, 1, 1, 1, 1, 1, 1, 1, 1, 1, 1, 1,\n",
       "       1, 1, 1, 1, 1, 1, 1, 1, 1, 1, 1, 1, 1, 1, 1, 1, 1, 1, 1, 1, 1, 1,\n",
       "       1, 1, 1, 1, 1, 1, 1, 1, 1, 1, 1, 1, 1, 1, 1, 1, 1, 1, 1, 1, 1, 1,\n",
       "       1, 1, 1, 1, 1, 1, 1, 1, 1, 1, 1, 1, 1, 1, 1, 1, 1, 1, 1, 1, 1, 1,\n",
       "       1, 1, 1, 1, 1, 1, 1, 1, 1, 1, 1, 1, 2, 2, 2, 2, 2, 2, 2, 2, 2, 2,\n",
       "       2, 2, 2, 2, 2, 2, 2, 2, 2, 2, 2, 2, 2, 2, 2, 2, 2, 2, 2, 2, 2, 2,\n",
       "       2, 2, 2, 2, 2, 2, 2, 2, 2, 2, 2, 2, 2, 2, 2, 2, 2, 2, 2, 2, 2, 2,\n",
       "       2, 2, 2, 2, 2, 2, 2, 2, 2, 2, 2, 2, 2, 2, 2, 2, 2, 2, 2, 2, 2, 2,\n",
       "       2, 2, 2, 2, 2, 2, 2, 2, 2, 2, 2, 2, 2, 2, 2, 2, 2, 2, 2, 2, 2, 2,\n",
       "       2, 2], dtype=uint8)>"
      ]
     },
     "execution_count": 16,
     "metadata": {},
     "output_type": "execute_result"
    }
   ],
   "source": [
    "tf.reshape(mat['class_mi'], 200)"
   ]
  },
  {
   "cell_type": "code",
   "execution_count": 17,
   "id": "798e62f5",
   "metadata": {},
   "outputs": [
    {
     "data": {
      "text/plain": [
       "(200, 1)"
      ]
     },
     "execution_count": 17,
     "metadata": {},
     "output_type": "execute_result"
    }
   ],
   "source": [
    "mat['class_mi'].transpose().shape"
   ]
  }
 ],
 "metadata": {
  "kernelspec": {
   "display_name": "Python 3",
   "language": "python",
   "name": "python3"
  },
  "language_info": {
   "codemirror_mode": {
    "name": "ipython",
    "version": 3
   },
   "file_extension": ".py",
   "mimetype": "text/x-python",
   "name": "python",
   "nbconvert_exporter": "python",
   "pygments_lexer": "ipython3",
   "version": "3.9.5"
  }
 },
 "nbformat": 4,
 "nbformat_minor": 5
}
